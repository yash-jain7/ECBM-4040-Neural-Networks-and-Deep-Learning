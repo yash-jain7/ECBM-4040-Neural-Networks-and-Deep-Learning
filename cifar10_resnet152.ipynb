{
 "cells": [
  {
   "cell_type": "code",
   "execution_count": 1,
   "id": "cb38e872",
   "metadata": {},
   "outputs": [],
   "source": [
    "import tensorflow as tf\n",
    "from utils.architectures import resnet_152\n",
    "from utils.plot import getAccuracyPlot, getLossPlot"
   ]
  },
  {
   "cell_type": "code",
   "execution_count": 2,
   "id": "519e545a",
   "metadata": {},
   "outputs": [],
   "source": [
    "cifar10 = tf.keras.datasets.cifar10 #load dataset\n",
    "(X_train, y_train), (X_test, y_test) = cifar10.load_data() #load dataset\n",
    "y_train = tf.keras.utils.to_categorical(y_train, 10) #create one-hot encoding vectors for 10 classes\n",
    "y_test = tf.keras.utils.to_categorical(y_test, 10) #create one-hot encoding vectors for 10 classes\n",
    "\n",
    "\n",
    "datagen = tf.keras.preprocessing.image.ImageDataGenerator(rotation_range=25,\n",
    "                                                          width_shift_range=0.25,\n",
    "                                                          height_shift_range=0.25,\n",
    "                                                          horizontal_flip=True,\n",
    "                                                          validation_split=0.2) #Data Augmentation\n",
    "X_train = X_train.astype('float32') / 255 #Normalization by 255 as it is a 8 bit image\n",
    "X_test = X_test.astype('float32') / 255 #Normalization by 255 as it is a 8 bit image\n",
    "\n",
    "datagen.fit(X_train)  #Applying Data Augmentation to the training dataset\n",
    "\n",
    "input_shape = X_train.shape[1:]\n",
    "output_size = 10"
   ]
  },
  {
   "cell_type": "code",
   "execution_count": 3,
   "id": "b316a357",
   "metadata": {},
   "outputs": [],
   "source": [
    "model = resnet_152(output_size)"
   ]
  },
  {
   "cell_type": "code",
   "execution_count": 4,
   "id": "21e7ba2b",
   "metadata": {},
   "outputs": [],
   "source": [
    "model.compile(tf.keras.optimizers.Adam(),\n",
    "              loss=tf.keras.losses.CategoricalCrossentropy(), \n",
    "              metrics=['accuracy'])"
   ]
  },
  {
   "cell_type": "code",
   "execution_count": 5,
   "id": "8a9591db",
   "metadata": {},
   "outputs": [
    {
     "name": "stdout",
     "output_type": "stream",
     "text": [
      "Model: \"sequential\"\n",
      "_________________________________________________________________\n",
      "Layer (type)                 Output Shape              Param #   \n",
      "=================================================================\n",
      "resnet152 (Functional)       (None, 2048)              58370944  \n",
      "_________________________________________________________________\n",
      "dense (Dense)                (None, 10)                20490     \n",
      "=================================================================\n",
      "Total params: 58,391,434\n",
      "Trainable params: 58,240,010\n",
      "Non-trainable params: 151,424\n",
      "_________________________________________________________________\n"
     ]
    }
   ],
   "source": [
    "model.summary()"
   ]
  },
  {
   "cell_type": "code",
   "execution_count": 6,
   "id": "598dbd4c",
   "metadata": {},
   "outputs": [
    {
     "name": "stdout",
     "output_type": "stream",
     "text": [
      "Epoch 1/100\n",
      "625/625 [==============================] - 112s 152ms/step - loss: 2.4379 - accuracy: 0.2273 - val_loss: 2.4252 - val_accuracy: 0.1069\n",
      "Epoch 2/100\n",
      "625/625 [==============================] - 92s 147ms/step - loss: 2.3434 - accuracy: 0.1980 - val_loss: 3.1706 - val_accuracy: 0.2223\n",
      "Epoch 3/100\n",
      "625/625 [==============================] - 92s 148ms/step - loss: 2.2178 - accuracy: 0.2521 - val_loss: 1.9812 - val_accuracy: 0.2321\n",
      "Epoch 4/100\n",
      "625/625 [==============================] - 92s 147ms/step - loss: 2.3221 - accuracy: 0.2328 - val_loss: 2.9448 - val_accuracy: 0.1421\n",
      "Epoch 5/100\n",
      "625/625 [==============================] - 92s 147ms/step - loss: 2.2935 - accuracy: 0.2245 - val_loss: 42.2528 - val_accuracy: 0.1543\n",
      "Epoch 6/100\n",
      "625/625 [==============================] - 92s 147ms/step - loss: 2.2748 - accuracy: 0.2395 - val_loss: 4.0849 - val_accuracy: 0.2191\n",
      "Epoch 7/100\n",
      "625/625 [==============================] - 92s 147ms/step - loss: 2.1642 - accuracy: 0.2478 - val_loss: 87.5377 - val_accuracy: 0.2037\n",
      "Epoch 8/100\n",
      "625/625 [==============================] - 92s 147ms/step - loss: 2.2076 - accuracy: 0.2455 - val_loss: 2.0642 - val_accuracy: 0.2616\n",
      "Epoch 9/100\n",
      "625/625 [==============================] - 92s 147ms/step - loss: 2.0215 - accuracy: 0.2754 - val_loss: 1.9509 - val_accuracy: 0.2893\n",
      "Epoch 10/100\n",
      "625/625 [==============================] - 92s 147ms/step - loss: 1.9127 - accuracy: 0.3106 - val_loss: 5.4497 - val_accuracy: 0.2203\n",
      "Epoch 11/100\n",
      "625/625 [==============================] - 92s 147ms/step - loss: 1.9215 - accuracy: 0.3319 - val_loss: 22.9353 - val_accuracy: 0.3229\n",
      "Epoch 12/100\n",
      "625/625 [==============================] - 92s 147ms/step - loss: 1.8573 - accuracy: 0.3404 - val_loss: 7.7181 - val_accuracy: 0.2990\n",
      "Epoch 13/100\n",
      "625/625 [==============================] - 92s 146ms/step - loss: 1.7603 - accuracy: 0.3751 - val_loss: 51.5436 - val_accuracy: 0.3540\n",
      "Epoch 14/100\n",
      "625/625 [==============================] - 92s 147ms/step - loss: 1.9451 - accuracy: 0.3412 - val_loss: 3.4618 - val_accuracy: 0.3654\n",
      "Epoch 15/100\n",
      "625/625 [==============================] - 92s 147ms/step - loss: 1.7584 - accuracy: 0.3888 - val_loss: 6.4750 - val_accuracy: 0.3889\n",
      "Epoch 16/100\n",
      "625/625 [==============================] - 92s 147ms/step - loss: 1.7258 - accuracy: 0.4171 - val_loss: 6.5082 - val_accuracy: 0.4339\n",
      "Epoch 17/100\n",
      "625/625 [==============================] - 92s 147ms/step - loss: 1.6344 - accuracy: 0.4380 - val_loss: 3.9583 - val_accuracy: 0.4460\n",
      "Epoch 18/100\n",
      "625/625 [==============================] - 92s 147ms/step - loss: 1.6054 - accuracy: 0.4476 - val_loss: 13.1459 - val_accuracy: 0.4417\n",
      "Epoch 19/100\n",
      "625/625 [==============================] - 92s 148ms/step - loss: 1.6814 - accuracy: 0.4393 - val_loss: 9.4195 - val_accuracy: 0.4193\n",
      "Epoch 20/100\n",
      "625/625 [==============================] - 92s 147ms/step - loss: 1.6440 - accuracy: 0.4563 - val_loss: 1.8598 - val_accuracy: 0.4083\n",
      "Epoch 21/100\n",
      "625/625 [==============================] - 92s 147ms/step - loss: 1.6941 - accuracy: 0.4229 - val_loss: 2.7502 - val_accuracy: 0.4358\n",
      "Epoch 22/100\n",
      "625/625 [==============================] - 92s 147ms/step - loss: 1.5940 - accuracy: 0.4472 - val_loss: 1.5212 - val_accuracy: 0.4844\n",
      "Epoch 23/100\n",
      "625/625 [==============================] - 93s 148ms/step - loss: 1.5561 - accuracy: 0.4741 - val_loss: 4.8282 - val_accuracy: 0.4381\n",
      "Epoch 24/100\n",
      "625/625 [==============================] - 93s 148ms/step - loss: 1.5218 - accuracy: 0.4818 - val_loss: 157.3961 - val_accuracy: 0.3677\n",
      "Epoch 25/100\n",
      "625/625 [==============================] - 92s 148ms/step - loss: 1.5836 - accuracy: 0.4729 - val_loss: 145.2383 - val_accuracy: 0.3664\n",
      "Epoch 26/100\n",
      "625/625 [==============================] - 92s 147ms/step - loss: 1.5009 - accuracy: 0.4977 - val_loss: 1.6464 - val_accuracy: 0.4069\n",
      "Epoch 27/100\n",
      "625/625 [==============================] - 93s 148ms/step - loss: 1.4545 - accuracy: 0.5161 - val_loss: 1.8941 - val_accuracy: 0.3551\n",
      "Epoch 28/100\n",
      "625/625 [==============================] - 93s 148ms/step - loss: 1.4696 - accuracy: 0.5097 - val_loss: 41.7243 - val_accuracy: 0.5190\n",
      "Epoch 29/100\n",
      "625/625 [==============================] - 92s 148ms/step - loss: 1.3815 - accuracy: 0.5450 - val_loss: 9.7345 - val_accuracy: 0.5175\n",
      "Epoch 30/100\n",
      "625/625 [==============================] - 92s 147ms/step - loss: 1.3669 - accuracy: 0.5431 - val_loss: 83.3450 - val_accuracy: 0.3764\n",
      "Epoch 31/100\n",
      "625/625 [==============================] - 92s 148ms/step - loss: 1.5579 - accuracy: 0.4757 - val_loss: 45.4864 - val_accuracy: 0.5242\n",
      "Epoch 32/100\n",
      "625/625 [==============================] - 92s 148ms/step - loss: 1.4029 - accuracy: 0.5298 - val_loss: 208.2635 - val_accuracy: 0.5350\n",
      "Epoch 33/100\n",
      "625/625 [==============================] - 92s 148ms/step - loss: 1.3685 - accuracy: 0.5445 - val_loss: 513.1323 - val_accuracy: 0.5572\n",
      "Epoch 34/100\n",
      "625/625 [==============================] - 92s 147ms/step - loss: 1.2938 - accuracy: 0.5680 - val_loss: 148.3698 - val_accuracy: 0.5563\n",
      "Epoch 35/100\n",
      "625/625 [==============================] - 92s 147ms/step - loss: 1.3082 - accuracy: 0.5648 - val_loss: 397.1477 - val_accuracy: 0.5571\n",
      "Epoch 36/100\n",
      "625/625 [==============================] - 92s 147ms/step - loss: 1.2538 - accuracy: 0.5814 - val_loss: 55.8520 - val_accuracy: 0.5636\n",
      "Epoch 37/100\n",
      "625/625 [==============================] - 92s 148ms/step - loss: 1.2379 - accuracy: 0.5818 - val_loss: 13.4972 - val_accuracy: 0.5706\n",
      "Epoch 38/100\n",
      "625/625 [==============================] - 92s 148ms/step - loss: 1.1951 - accuracy: 0.5898 - val_loss: 272.6299 - val_accuracy: 0.5758\n",
      "Epoch 39/100\n",
      "625/625 [==============================] - 92s 147ms/step - loss: 1.1774 - accuracy: 0.5952 - val_loss: 131.5122 - val_accuracy: 0.4271\n",
      "Epoch 40/100\n",
      "625/625 [==============================] - 92s 148ms/step - loss: 1.1678 - accuracy: 0.5917 - val_loss: 706677.6250 - val_accuracy: 0.1317\n",
      "Epoch 41/100\n",
      "625/625 [==============================] - 92s 148ms/step - loss: 1.5400 - accuracy: 0.4584 - val_loss: 68.9852 - val_accuracy: 0.5254\n",
      "Epoch 42/100\n",
      "625/625 [==============================] - 92s 147ms/step - loss: 1.3154 - accuracy: 0.5308 - val_loss: 462.3444 - val_accuracy: 0.5540\n",
      "Epoch 43/100\n",
      "625/625 [==============================] - 92s 147ms/step - loss: 1.2258 - accuracy: 0.5658 - val_loss: 59.3655 - val_accuracy: 0.5792\n",
      "Epoch 44/100\n",
      "625/625 [==============================] - 92s 147ms/step - loss: 1.1807 - accuracy: 0.5809 - val_loss: 253.2254 - val_accuracy: 0.5925\n",
      "Epoch 45/100\n",
      "625/625 [==============================] - 92s 147ms/step - loss: 1.1513 - accuracy: 0.5870 - val_loss: 292.1166 - val_accuracy: 0.5816\n",
      "Epoch 46/100\n",
      "625/625 [==============================] - 93s 148ms/step - loss: 1.1299 - accuracy: 0.5984 - val_loss: 161.6343 - val_accuracy: 0.5982\n",
      "Epoch 47/100\n",
      "625/625 [==============================] - 93s 148ms/step - loss: 1.0999 - accuracy: 0.6070 - val_loss: 337.3305 - val_accuracy: 0.6161\n",
      "Epoch 48/100\n",
      "625/625 [==============================] - 92s 148ms/step - loss: 1.0706 - accuracy: 0.6211 - val_loss: 247.2034 - val_accuracy: 0.6084\n",
      "Epoch 49/100\n",
      "625/625 [==============================] - 92s 148ms/step - loss: 1.0579 - accuracy: 0.6224 - val_loss: 173.2852 - val_accuracy: 0.6113\n",
      "Epoch 50/100\n",
      "625/625 [==============================] - 93s 148ms/step - loss: 1.0620 - accuracy: 0.6186 - val_loss: 1.5867 - val_accuracy: 0.5559\n",
      "Epoch 51/100\n",
      "625/625 [==============================] - 93s 149ms/step - loss: 1.1028 - accuracy: 0.6092 - val_loss: 2.4808 - val_accuracy: 0.2253\n",
      "Epoch 52/100\n",
      "625/625 [==============================] - 92s 148ms/step - loss: 1.3531 - accuracy: 0.5128 - val_loss: 592.5001 - val_accuracy: 0.5442\n",
      "Epoch 53/100\n",
      "625/625 [==============================] - 92s 148ms/step - loss: 1.2715 - accuracy: 0.5408 - val_loss: 348.3531 - val_accuracy: 0.4307\n",
      "Epoch 54/100\n",
      "625/625 [==============================] - 92s 147ms/step - loss: 1.2698 - accuracy: 0.5405 - val_loss: 118.1224 - val_accuracy: 0.5774\n",
      "Epoch 55/100\n",
      "625/625 [==============================] - 92s 148ms/step - loss: 1.1726 - accuracy: 0.5798 - val_loss: 921.3671 - val_accuracy: 0.5099\n",
      "Epoch 56/100\n",
      "625/625 [==============================] - 93s 148ms/step - loss: 1.2264 - accuracy: 0.5601 - val_loss: 988.0298 - val_accuracy: 0.5783\n",
      "Epoch 57/100\n",
      "625/625 [==============================] - 93s 148ms/step - loss: 1.1481 - accuracy: 0.5868 - val_loss: 8.9675 - val_accuracy: 0.1490\n",
      "Epoch 58/100\n",
      "625/625 [==============================] - 92s 147ms/step - loss: 1.5486 - accuracy: 0.4400 - val_loss: 9421.4590 - val_accuracy: 0.2555\n",
      "Epoch 59/100\n",
      "625/625 [==============================] - 92s 147ms/step - loss: 1.5474 - accuracy: 0.4375 - val_loss: 3159.1799 - val_accuracy: 0.3411\n",
      "Epoch 60/100\n",
      "625/625 [==============================] - 92s 147ms/step - loss: 1.7408 - accuracy: 0.3689 - val_loss: 347.3189 - val_accuracy: 0.3653\n",
      "Epoch 61/100\n",
      "625/625 [==============================] - 92s 148ms/step - loss: 1.6533 - accuracy: 0.3982 - val_loss: 70.8138 - val_accuracy: 0.4295\n",
      "Epoch 62/100\n",
      "625/625 [==============================] - 92s 148ms/step - loss: 1.5682 - accuracy: 0.4315 - val_loss: 125.7039 - val_accuracy: 0.4551\n",
      "Epoch 63/100\n",
      "625/625 [==============================] - 92s 148ms/step - loss: 1.5038 - accuracy: 0.4528 - val_loss: 354.2637 - val_accuracy: 0.4676\n",
      "Epoch 64/100\n",
      "625/625 [==============================] - 92s 148ms/step - loss: 1.4411 - accuracy: 0.4783 - val_loss: 25.8715 - val_accuracy: 0.4432\n",
      "Epoch 65/100\n",
      "625/625 [==============================] - 93s 148ms/step - loss: 1.4122 - accuracy: 0.4911 - val_loss: 7155.2266 - val_accuracy: 0.5042\n",
      "Epoch 66/100\n",
      "625/625 [==============================] - 92s 147ms/step - loss: 1.3433 - accuracy: 0.5144 - val_loss: 1823.1332 - val_accuracy: 0.5285\n",
      "Epoch 67/100\n",
      "625/625 [==============================] - 92s 148ms/step - loss: 1.2781 - accuracy: 0.5405 - val_loss: 1828.4633 - val_accuracy: 0.5520\n",
      "Epoch 68/100\n",
      "625/625 [==============================] - 92s 148ms/step - loss: 1.2308 - accuracy: 0.5546 - val_loss: 46421.8984 - val_accuracy: 0.5377\n",
      "Epoch 69/100\n",
      "625/625 [==============================] - 92s 148ms/step - loss: 1.1823 - accuracy: 0.5715 - val_loss: 1.1613 - val_accuracy: 0.5824\n",
      "Epoch 70/100\n",
      "625/625 [==============================] - 93s 148ms/step - loss: 1.1365 - accuracy: 0.5902 - val_loss: 52701.2500 - val_accuracy: 0.5874\n",
      "Epoch 71/100\n",
      "625/625 [==============================] - 92s 148ms/step - loss: 1.2547 - accuracy: 0.5450 - val_loss: 447.9196 - val_accuracy: 0.3700\n",
      "Epoch 72/100\n",
      "625/625 [==============================] - 92s 148ms/step - loss: 1.5226 - accuracy: 0.4451 - val_loss: 757.3516 - val_accuracy: 0.4989\n",
      "Epoch 73/100\n",
      "625/625 [==============================] - 92s 148ms/step - loss: 1.4409 - accuracy: 0.4776 - val_loss: 149.2641 - val_accuracy: 0.4745\n",
      "Epoch 74/100\n",
      "625/625 [==============================] - 92s 148ms/step - loss: 1.4346 - accuracy: 0.4806 - val_loss: 555.7367 - val_accuracy: 0.5068\n",
      "Epoch 75/100\n",
      "625/625 [==============================] - 92s 148ms/step - loss: 1.3155 - accuracy: 0.5198 - val_loss: 2833.4338 - val_accuracy: 0.5251\n",
      "Epoch 76/100\n",
      "625/625 [==============================] - 92s 148ms/step - loss: 1.2680 - accuracy: 0.5419 - val_loss: 2935.1018 - val_accuracy: 0.5581\n",
      "Epoch 77/100\n",
      "625/625 [==============================] - 93s 148ms/step - loss: 1.2956 - accuracy: 0.5276 - val_loss: 1357.6300 - val_accuracy: 0.5032\n",
      "Epoch 78/100\n",
      "625/625 [==============================] - 93s 148ms/step - loss: 1.2747 - accuracy: 0.5385 - val_loss: 1941.0038 - val_accuracy: 0.5580\n",
      "Epoch 79/100\n",
      "625/625 [==============================] - 92s 148ms/step - loss: 1.2041 - accuracy: 0.5659 - val_loss: 20423.2559 - val_accuracy: 0.5289\n",
      "Epoch 80/100\n",
      "625/625 [==============================] - 93s 148ms/step - loss: 1.1531 - accuracy: 0.5831 - val_loss: 1277.6898 - val_accuracy: 0.5731\n",
      "Epoch 81/100\n",
      "625/625 [==============================] - 92s 148ms/step - loss: 1.1091 - accuracy: 0.6003 - val_loss: 12499.7080 - val_accuracy: 0.6003\n",
      "Epoch 82/100\n",
      "625/625 [==============================] - 92s 148ms/step - loss: 1.1731 - accuracy: 0.5809 - val_loss: 19529.7402 - val_accuracy: 0.5987\n",
      "Epoch 83/100\n",
      "625/625 [==============================] - 92s 148ms/step - loss: 1.0689 - accuracy: 0.6181 - val_loss: 3458.3816 - val_accuracy: 0.6131\n",
      "Epoch 84/100\n",
      "625/625 [==============================] - 92s 147ms/step - loss: 1.0280 - accuracy: 0.6312 - val_loss: 5125.0928 - val_accuracy: 0.5852\n",
      "Epoch 85/100\n",
      "625/625 [==============================] - 92s 148ms/step - loss: 1.0094 - accuracy: 0.6397 - val_loss: 4900.0898 - val_accuracy: 0.6175\n",
      "Epoch 86/100\n",
      "625/625 [==============================] - 93s 148ms/step - loss: 1.0261 - accuracy: 0.6325 - val_loss: 1408.9458 - val_accuracy: 0.1607\n",
      "Epoch 87/100\n",
      "625/625 [==============================] - 92s 147ms/step - loss: 1.2830 - accuracy: 0.5368 - val_loss: 14068.7725 - val_accuracy: 0.5987\n",
      "Epoch 88/100\n",
      "625/625 [==============================] - 92s 148ms/step - loss: 1.1139 - accuracy: 0.5999 - val_loss: 987.6355 - val_accuracy: 0.4866\n",
      "Epoch 89/100\n",
      "625/625 [==============================] - 92s 147ms/step - loss: 1.0976 - accuracy: 0.6112 - val_loss: 18090.6270 - val_accuracy: 0.5994\n",
      "Epoch 90/100\n",
      "625/625 [==============================] - 92s 148ms/step - loss: 1.0369 - accuracy: 0.6295 - val_loss: 5468401.5000 - val_accuracy: 0.2474\n",
      "Epoch 91/100\n",
      "625/625 [==============================] - 93s 148ms/step - loss: 1.3167 - accuracy: 0.5259 - val_loss: 6254.9609 - val_accuracy: 0.5538\n",
      "Epoch 92/100\n",
      "625/625 [==============================] - 92s 148ms/step - loss: 1.1489 - accuracy: 0.5905 - val_loss: 48402.6680 - val_accuracy: 0.5193\n",
      "Epoch 93/100\n",
      "625/625 [==============================] - 93s 148ms/step - loss: 1.2036 - accuracy: 0.5704 - val_loss: 15769.2959 - val_accuracy: 0.5914\n",
      "Epoch 94/100\n",
      "625/625 [==============================] - 93s 148ms/step - loss: 1.3962 - accuracy: 0.5015 - val_loss: 4884.7705 - val_accuracy: 0.5191\n",
      "Epoch 95/100\n",
      "625/625 [==============================] - 93s 148ms/step - loss: 1.2837 - accuracy: 0.5334 - val_loss: 152506.1719 - val_accuracy: 0.4981\n",
      "Epoch 96/100\n",
      "625/625 [==============================] - 94s 150ms/step - loss: 1.2587 - accuracy: 0.5454 - val_loss: 55333.1016 - val_accuracy: 0.5206\n",
      "Epoch 97/100\n",
      "625/625 [==============================] - 93s 148ms/step - loss: 1.1706 - accuracy: 0.5786 - val_loss: 181551.8281 - val_accuracy: 0.5278\n",
      "Epoch 98/100\n",
      "625/625 [==============================] - 93s 148ms/step - loss: 1.1368 - accuracy: 0.5895 - val_loss: 45671.1328 - val_accuracy: 0.5929\n",
      "Epoch 99/100\n",
      "625/625 [==============================] - 93s 148ms/step - loss: 1.0486 - accuracy: 0.6250 - val_loss: 75692.4062 - val_accuracy: 0.6071\n",
      "Epoch 100/100\n",
      "625/625 [==============================] - 92s 148ms/step - loss: 1.0174 - accuracy: 0.6299 - val_loss: 36996.2305 - val_accuracy: 0.6033\n"
     ]
    }
   ],
   "source": [
    "history = model.fit(datagen.flow(X_train, y_train, batch_size=64, subset='training'), validation_data=datagen.flow(X_train, y_train, batch_size=64, subset='validation'),\n",
    "                    epochs=100)"
   ]
  },
  {
   "cell_type": "code",
   "execution_count": 7,
   "id": "c0d8f357",
   "metadata": {},
   "outputs": [
    {
     "data": {
      "image/png": "[encoded data removed]",
      "text/plain": [
       "<Figure size 432x288 with 1 Axes>"
      ]
     },
     "metadata": {
      "needs_background": "light"
     },
     "output_type": "display_data"
    }
   ],
   "source": [
    "getAccuracyPlot(history, 'ResNet-152 [Cifar-10]')"
   ]
  },
  {
   "cell_type": "code",
   "execution_count": 8,
   "id": "76af4fff",
   "metadata": {},
   "outputs": [
    {
     "data": {
      "image/png": "[encoded data removed]",
      "text/plain": [
       "<Figure size 432x288 with 1 Axes>"
      ]
     },
     "metadata": {
      "needs_background": "light"
     },
     "output_type": "display_data"
    }
   ],
   "source": [
    "getLossPlot(history, 'ResNet-152 [Cifar-10]')"
   ]
  },
  {
   "cell_type": "code",
   "execution_count": 9,
   "id": "53c30491",
   "metadata": {
    "id": "Q6c51VwC3B69"
   },
   "outputs": [],
   "source": [
    "model.save('cifar10_resnet152_100epoch.h5')"
   ]
  },
  {
   "cell_type": "code",
   "execution_count": 10,
   "id": "26df78eb",
   "metadata": {},
   "outputs": [
    {
     "name": "stdout",
     "output_type": "stream",
     "text": [
      "313/313 [==============================] - 12s 30ms/step - loss: 125940.9297 - accuracy: 0.6667\n"
     ]
    },
    {
     "data": {
      "text/plain": [
       "[125940.9296875, 0.666700005531311]"
      ]
     },
     "execution_count": 10,
     "metadata": {},
     "output_type": "execute_result"
    }
   ],
   "source": [
    "model.evaluate(X_test, y_test)"
   ]
  }
 ],
 "metadata": {
  "kernelspec": {
   "display_name": "Python 3",
   "language": "python",
   "name": "python3"
  },
  "language_info": {
   "codemirror_mode": {
    "name": "ipython",
    "version": 3
   },
   "file_extension": ".py",
   "mimetype": "text/x-python",
   "name": "python",
   "nbconvert_exporter": "python",
   "pygments_lexer": "ipython3",
   "version": "3.6.9"
  }
 },
 "nbformat": 4,
 "nbformat_minor": 5
}
