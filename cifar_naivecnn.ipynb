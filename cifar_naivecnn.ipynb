{
 "cells": [
  {
   "cell_type": "code",
   "execution_count": 1,
   "metadata": {
    "id": "T4CcQXYDQBqV"
   },
   "outputs": [],
   "source": [
    "from tensorflow.keras import datasets, layers, models\n",
    "from tensorflow.keras.layers import BatchNormalization, Dropout, Conv2D, MaxPooling2D, Flatten, Dense\n",
    "import tensorflow as tf\n",
    "from utils.plot import getAccuracyPlot, getLossPlot"
   ]
  },
  {
   "cell_type": "markdown",
   "metadata": {
    "id": "yNS6uy-reQzN"
   },
   "source": [
    "### Cifar 10"
   ]
  },
  {
   "cell_type": "code",
   "execution_count": 2,
   "metadata": {
    "id": "4JKWiI4nR64g"
   },
   "outputs": [],
   "source": [
    "cifar10 = tf.keras.datasets.cifar10 #load dataset\n",
    "(X_train, y_train), (X_test, y_test) = cifar10.load_data() #load dataset\n",
    "y_train = tf.keras.utils.to_categorical(y_train, 10) #create one-hot encoding vectors for 10 classes\n",
    "y_test = tf.keras.utils.to_categorical(y_test, 10) #create one-hot encoding vectors for 10 classes\n",
    "\n",
    "\n",
    "datagen = tf.keras.preprocessing.image.ImageDataGenerator(rotation_range=25,\n",
    "                                                          width_shift_range=0.25,\n",
    "                                                          height_shift_range=0.25,\n",
    "                                                          horizontal_flip=True,\n",
    "                                                          validation_split=0.2) #Data Augmentation\n",
    "X_train = X_train.astype('float32') / 255 #Normalization by 255 as it is a 8 bit image\n",
    "X_test = X_test.astype('float32') / 255 #Normalization by 255 as it is a 8 bit image\n",
    "\n",
    "datagen.fit(X_train)  #Applying Data Augmentation to the training dataset\n",
    "\n",
    "input_shape = X_train.shape[1:]\n",
    "output_size = 10"
   ]
  },
  {
   "cell_type": "code",
   "execution_count": 6,
   "metadata": {
    "id": "JcKJQ40-QFdI"
   },
   "outputs": [],
   "source": [
    "model = models.Sequential()\n",
    "model.add(Conv2D(32, (3, 3), activation='relu', input_shape=input_shape))\n",
    "model.add(Dropout(0.2))\n",
    "model.add(Conv2D(32, (3, 3), activation='relu', padding='same'))\n",
    "model.add(MaxPooling2D((2, 2)))\n",
    "model.add(layers.Conv2D(64, (3, 3), activation='relu'))\n",
    "model.add(Dropout(0.2))\n",
    "model.add(MaxPooling2D((2, 2)))\n",
    "model.add(Conv2D(64, (3, 3), activation='relu'))\n",
    "model.add(MaxPooling2D(pool_size=(2, 2)))\n",
    "model.add(Conv2D(128, (3, 3), activation='relu', padding='same')) \n",
    "model.add(MaxPooling2D(pool_size=(2, 2)))\n",
    "model.add(Flatten())\n",
    "model.add(Dense(64, activation='relu'))\n",
    "model.add(Dense(output_size, activation='softmax'))"
   ]
  },
  {
   "cell_type": "code",
   "execution_count": 7,
   "metadata": {},
   "outputs": [
    {
     "name": "stdout",
     "output_type": "stream",
     "text": [
      "Model: \"sequential\"\n",
      "_________________________________________________________________\n",
      "Layer (type)                 Output Shape              Param #   \n",
      "=================================================================\n",
      "conv2d (Conv2D)              (None, 30, 30, 32)        896       \n",
      "_________________________________________________________________\n",
      "dropout (Dropout)            (None, 30, 30, 32)        0         \n",
      "_________________________________________________________________\n",
      "conv2d_1 (Conv2D)            (None, 30, 30, 32)        9248      \n",
      "_________________________________________________________________\n",
      "max_pooling2d (MaxPooling2D) (None, 15, 15, 32)        0         \n",
      "_________________________________________________________________\n",
      "conv2d_2 (Conv2D)            (None, 13, 13, 64)        18496     \n",
      "_________________________________________________________________\n",
      "dropout_1 (Dropout)          (None, 13, 13, 64)        0         \n",
      "_________________________________________________________________\n",
      "max_pooling2d_1 (MaxPooling2 (None, 6, 6, 64)          0         \n",
      "_________________________________________________________________\n",
      "conv2d_3 (Conv2D)            (None, 4, 4, 64)          36928     \n",
      "_________________________________________________________________\n",
      "max_pooling2d_2 (MaxPooling2 (None, 2, 2, 64)          0         \n",
      "_________________________________________________________________\n",
      "conv2d_4 (Conv2D)            (None, 2, 2, 128)         73856     \n",
      "_________________________________________________________________\n",
      "max_pooling2d_3 (MaxPooling2 (None, 1, 1, 128)         0         \n",
      "_________________________________________________________________\n",
      "flatten (Flatten)            (None, 128)               0         \n",
      "_________________________________________________________________\n",
      "dense (Dense)                (None, 64)                8256      \n",
      "_________________________________________________________________\n",
      "dense_1 (Dense)              (None, 100)               6500      \n",
      "=================================================================\n",
      "Total params: 154,180\n",
      "Trainable params: 154,180\n",
      "Non-trainable params: 0\n",
      "_________________________________________________________________\n"
     ]
    }
   ],
   "source": [
    "model.summary()"
   ]
  },
  {
   "cell_type": "code",
   "execution_count": 5,
   "metadata": {},
   "outputs": [],
   "source": [
    "model.compile(tf.keras.optimizers.Adam(),\n",
    "              loss=tf.keras.losses.CategoricalCrossentropy(), \n",
    "              metrics=['accuracy'])"
   ]
  },
  {
   "cell_type": "code",
   "execution_count": 6,
   "metadata": {
    "colab": {
     "base_uri": "https://localhost:8080/"
    },
    "id": "QOehWfnqSMm7",
    "outputId": "4b75ced8-4d4b-45d5-823b-9a3970ec3b22"
   },
   "outputs": [
    {
     "name": "stdout",
     "output_type": "stream",
     "text": [
      "Epoch 1/100\n",
      "625/625 [==============================] - 24s 34ms/step - loss: 2.0631 - accuracy: 0.2146 - val_loss: 1.7571 - val_accuracy: 0.3552\n",
      "Epoch 2/100\n",
      "625/625 [==============================] - 21s 33ms/step - loss: 1.7048 - accuracy: 0.3705 - val_loss: 1.5994 - val_accuracy: 0.4202\n",
      "Epoch 3/100\n",
      "625/625 [==============================] - 21s 33ms/step - loss: 1.5505 - accuracy: 0.4323 - val_loss: 1.4743 - val_accuracy: 0.4736\n",
      "Epoch 4/100\n",
      "625/625 [==============================] - 21s 33ms/step - loss: 1.4374 - accuracy: 0.4802 - val_loss: 1.4030 - val_accuracy: 0.5022\n",
      "Epoch 5/100\n",
      "625/625 [==============================] - 20s 33ms/step - loss: 1.3665 - accuracy: 0.5032 - val_loss: 1.3272 - val_accuracy: 0.5178\n",
      "Epoch 6/100\n",
      "625/625 [==============================] - 20s 33ms/step - loss: 1.3017 - accuracy: 0.5295 - val_loss: 1.2897 - val_accuracy: 0.5357\n",
      "Epoch 7/100\n",
      "625/625 [==============================] - 20s 33ms/step - loss: 1.2646 - accuracy: 0.5446 - val_loss: 1.2332 - val_accuracy: 0.5644\n",
      "Epoch 8/100\n",
      "625/625 [==============================] - 21s 33ms/step - loss: 1.2164 - accuracy: 0.5683 - val_loss: 1.2148 - val_accuracy: 0.5622\n",
      "Epoch 9/100\n",
      "625/625 [==============================] - 21s 33ms/step - loss: 1.1876 - accuracy: 0.5741 - val_loss: 1.2109 - val_accuracy: 0.5733\n",
      "Epoch 10/100\n",
      "625/625 [==============================] - 20s 33ms/step - loss: 1.1528 - accuracy: 0.5873 - val_loss: 1.1443 - val_accuracy: 0.5877\n",
      "Epoch 11/100\n",
      "625/625 [==============================] - 20s 33ms/step - loss: 1.1236 - accuracy: 0.5978 - val_loss: 1.1051 - val_accuracy: 0.6130\n",
      "Epoch 12/100\n",
      "625/625 [==============================] - 20s 32ms/step - loss: 1.1146 - accuracy: 0.6058 - val_loss: 1.0896 - val_accuracy: 0.6129\n",
      "Epoch 13/100\n",
      "625/625 [==============================] - 20s 33ms/step - loss: 1.0849 - accuracy: 0.6124 - val_loss: 1.1141 - val_accuracy: 0.6091\n",
      "Epoch 14/100\n",
      "625/625 [==============================] - 20s 33ms/step - loss: 1.0639 - accuracy: 0.6239 - val_loss: 1.1218 - val_accuracy: 0.6032\n",
      "Epoch 15/100\n",
      "625/625 [==============================] - 20s 32ms/step - loss: 1.0559 - accuracy: 0.6283 - val_loss: 1.0415 - val_accuracy: 0.6254\n",
      "Epoch 16/100\n",
      "625/625 [==============================] - 20s 32ms/step - loss: 1.0364 - accuracy: 0.6332 - val_loss: 1.0187 - val_accuracy: 0.6477\n",
      "Epoch 17/100\n",
      "625/625 [==============================] - 20s 33ms/step - loss: 1.0267 - accuracy: 0.6329 - val_loss: 1.0602 - val_accuracy: 0.6297\n",
      "Epoch 18/100\n",
      "625/625 [==============================] - 20s 33ms/step - loss: 1.0264 - accuracy: 0.6378 - val_loss: 1.0213 - val_accuracy: 0.6466\n",
      "Epoch 19/100\n",
      "625/625 [==============================] - 20s 33ms/step - loss: 1.0088 - accuracy: 0.6444 - val_loss: 1.0448 - val_accuracy: 0.6375\n",
      "Epoch 20/100\n",
      "625/625 [==============================] - 20s 32ms/step - loss: 0.9963 - accuracy: 0.6527 - val_loss: 1.0022 - val_accuracy: 0.6471\n",
      "Epoch 21/100\n",
      "625/625 [==============================] - 20s 33ms/step - loss: 0.9988 - accuracy: 0.6485 - val_loss: 0.9750 - val_accuracy: 0.6593\n",
      "Epoch 22/100\n",
      "625/625 [==============================] - 20s 32ms/step - loss: 0.9854 - accuracy: 0.6513 - val_loss: 0.9740 - val_accuracy: 0.6583\n",
      "Epoch 23/100\n",
      "625/625 [==============================] - 20s 32ms/step - loss: 0.9669 - accuracy: 0.6593 - val_loss: 1.0046 - val_accuracy: 0.6497\n",
      "Epoch 24/100\n",
      "625/625 [==============================] - 20s 33ms/step - loss: 0.9761 - accuracy: 0.6533 - val_loss: 0.9610 - val_accuracy: 0.6621\n",
      "Epoch 25/100\n",
      "625/625 [==============================] - 20s 32ms/step - loss: 0.9620 - accuracy: 0.6609 - val_loss: 0.9905 - val_accuracy: 0.6526\n",
      "Epoch 26/100\n",
      "625/625 [==============================] - 20s 33ms/step - loss: 0.9522 - accuracy: 0.6658 - val_loss: 0.9915 - val_accuracy: 0.6507\n",
      "Epoch 27/100\n",
      "625/625 [==============================] - 20s 32ms/step - loss: 0.9409 - accuracy: 0.6685 - val_loss: 0.9966 - val_accuracy: 0.6519\n",
      "Epoch 28/100\n",
      "625/625 [==============================] - 20s 32ms/step - loss: 0.9475 - accuracy: 0.6659 - val_loss: 0.9594 - val_accuracy: 0.6657\n",
      "Epoch 29/100\n",
      "625/625 [==============================] - 20s 33ms/step - loss: 0.9318 - accuracy: 0.6733 - val_loss: 0.9852 - val_accuracy: 0.6472\n",
      "Epoch 30/100\n",
      "625/625 [==============================] - 20s 32ms/step - loss: 0.9353 - accuracy: 0.6714 - val_loss: 0.9692 - val_accuracy: 0.6566\n",
      "Epoch 31/100\n",
      "625/625 [==============================] - 20s 32ms/step - loss: 0.9285 - accuracy: 0.6716 - val_loss: 0.9154 - val_accuracy: 0.6845\n",
      "Epoch 32/100\n",
      "625/625 [==============================] - 20s 32ms/step - loss: 0.9138 - accuracy: 0.6775 - val_loss: 1.0149 - val_accuracy: 0.6398\n",
      "Epoch 33/100\n",
      "625/625 [==============================] - 20s 32ms/step - loss: 0.9185 - accuracy: 0.6810 - val_loss: 0.9312 - val_accuracy: 0.6764\n",
      "Epoch 34/100\n",
      "625/625 [==============================] - 20s 33ms/step - loss: 0.9043 - accuracy: 0.6812 - val_loss: 0.9353 - val_accuracy: 0.6731\n",
      "Epoch 35/100\n",
      "625/625 [==============================] - 20s 32ms/step - loss: 0.9016 - accuracy: 0.6859 - val_loss: 0.9313 - val_accuracy: 0.6735\n",
      "Epoch 36/100\n",
      "625/625 [==============================] - 20s 33ms/step - loss: 0.8985 - accuracy: 0.6848 - val_loss: 0.8877 - val_accuracy: 0.6868\n",
      "Epoch 37/100\n",
      "625/625 [==============================] - 20s 32ms/step - loss: 0.9020 - accuracy: 0.6865 - val_loss: 0.9283 - val_accuracy: 0.6791\n",
      "Epoch 38/100\n",
      "625/625 [==============================] - 20s 32ms/step - loss: 0.8891 - accuracy: 0.6918 - val_loss: 0.8968 - val_accuracy: 0.6853\n",
      "Epoch 39/100\n",
      "625/625 [==============================] - 20s 33ms/step - loss: 0.8907 - accuracy: 0.6840 - val_loss: 0.9223 - val_accuracy: 0.6747\n",
      "Epoch 40/100\n",
      "625/625 [==============================] - 20s 32ms/step - loss: 0.8773 - accuracy: 0.6950 - val_loss: 0.9454 - val_accuracy: 0.6716\n",
      "Epoch 41/100\n",
      "625/625 [==============================] - 20s 32ms/step - loss: 0.8814 - accuracy: 0.6921 - val_loss: 0.9248 - val_accuracy: 0.6795\n",
      "Epoch 42/100\n",
      "625/625 [==============================] - 20s 33ms/step - loss: 0.8865 - accuracy: 0.6880 - val_loss: 0.8751 - val_accuracy: 0.6931\n",
      "Epoch 43/100\n",
      "625/625 [==============================] - 20s 32ms/step - loss: 0.8589 - accuracy: 0.6962 - val_loss: 0.9217 - val_accuracy: 0.6816\n",
      "Epoch 44/100\n",
      "625/625 [==============================] - 20s 33ms/step - loss: 0.8674 - accuracy: 0.6914 - val_loss: 0.9006 - val_accuracy: 0.6849\n",
      "Epoch 45/100\n",
      "625/625 [==============================] - 20s 33ms/step - loss: 0.8835 - accuracy: 0.6889 - val_loss: 0.9397 - val_accuracy: 0.6716\n",
      "Epoch 46/100\n",
      "625/625 [==============================] - 20s 32ms/step - loss: 0.8799 - accuracy: 0.6907 - val_loss: 0.9199 - val_accuracy: 0.6821\n",
      "Epoch 47/100\n",
      "625/625 [==============================] - 20s 32ms/step - loss: 0.8643 - accuracy: 0.6985 - val_loss: 0.9057 - val_accuracy: 0.6843\n",
      "Epoch 48/100\n",
      "625/625 [==============================] - 20s 33ms/step - loss: 0.8579 - accuracy: 0.7002 - val_loss: 0.8591 - val_accuracy: 0.7014\n",
      "Epoch 49/100\n",
      "625/625 [==============================] - 20s 33ms/step - loss: 0.8728 - accuracy: 0.6951 - val_loss: 0.8925 - val_accuracy: 0.6816\n",
      "Epoch 50/100\n",
      "625/625 [==============================] - 20s 32ms/step - loss: 0.8512 - accuracy: 0.7048 - val_loss: 0.9498 - val_accuracy: 0.6586\n",
      "Epoch 51/100\n",
      "625/625 [==============================] - 20s 32ms/step - loss: 0.8608 - accuracy: 0.6985 - val_loss: 0.8751 - val_accuracy: 0.6965\n",
      "Epoch 52/100\n",
      "625/625 [==============================] - 20s 32ms/step - loss: 0.8447 - accuracy: 0.7008 - val_loss: 0.8617 - val_accuracy: 0.6973\n",
      "Epoch 53/100\n",
      "625/625 [==============================] - 20s 32ms/step - loss: 0.8389 - accuracy: 0.7079 - val_loss: 0.8643 - val_accuracy: 0.6979\n",
      "Epoch 54/100\n",
      "625/625 [==============================] - 20s 33ms/step - loss: 0.8432 - accuracy: 0.7059 - val_loss: 0.9025 - val_accuracy: 0.6847\n",
      "Epoch 55/100\n",
      "625/625 [==============================] - 20s 32ms/step - loss: 0.8402 - accuracy: 0.7074 - val_loss: 0.8864 - val_accuracy: 0.6902\n",
      "Epoch 56/100\n",
      "625/625 [==============================] - 20s 32ms/step - loss: 0.8438 - accuracy: 0.7052 - val_loss: 0.8494 - val_accuracy: 0.7094\n",
      "Epoch 57/100\n",
      "625/625 [==============================] - 20s 32ms/step - loss: 0.8235 - accuracy: 0.7113 - val_loss: 0.8784 - val_accuracy: 0.6936\n",
      "Epoch 58/100\n",
      "625/625 [==============================] - 20s 32ms/step - loss: 0.8438 - accuracy: 0.7058 - val_loss: 0.8835 - val_accuracy: 0.6871\n",
      "Epoch 59/100\n",
      "625/625 [==============================] - 20s 32ms/step - loss: 0.8281 - accuracy: 0.7113 - val_loss: 0.8535 - val_accuracy: 0.7010\n",
      "Epoch 60/100\n",
      "625/625 [==============================] - 20s 32ms/step - loss: 0.8251 - accuracy: 0.7090 - val_loss: 0.8482 - val_accuracy: 0.7038\n",
      "Epoch 61/100\n",
      "625/625 [==============================] - 20s 32ms/step - loss: 0.8237 - accuracy: 0.7111 - val_loss: 0.8584 - val_accuracy: 0.7011\n",
      "Epoch 62/100\n",
      "625/625 [==============================] - 20s 32ms/step - loss: 0.8171 - accuracy: 0.7173 - val_loss: 0.8520 - val_accuracy: 0.7002\n",
      "Epoch 63/100\n",
      "625/625 [==============================] - 20s 32ms/step - loss: 0.8142 - accuracy: 0.7147 - val_loss: 0.8643 - val_accuracy: 0.6974\n",
      "Epoch 64/100\n",
      "625/625 [==============================] - 20s 32ms/step - loss: 0.8177 - accuracy: 0.7158 - val_loss: 0.8832 - val_accuracy: 0.6902\n",
      "Epoch 65/100\n",
      "625/625 [==============================] - 20s 32ms/step - loss: 0.8185 - accuracy: 0.7157 - val_loss: 0.8488 - val_accuracy: 0.7060\n",
      "Epoch 66/100\n",
      "625/625 [==============================] - 20s 32ms/step - loss: 0.8083 - accuracy: 0.7180 - val_loss: 0.8727 - val_accuracy: 0.7001\n",
      "Epoch 67/100\n",
      "625/625 [==============================] - 20s 32ms/step - loss: 0.8166 - accuracy: 0.7152 - val_loss: 0.8470 - val_accuracy: 0.7074\n",
      "Epoch 68/100\n",
      "625/625 [==============================] - 20s 32ms/step - loss: 0.8272 - accuracy: 0.7103 - val_loss: 0.8716 - val_accuracy: 0.6966\n",
      "Epoch 69/100\n",
      "625/625 [==============================] - 20s 33ms/step - loss: 0.8091 - accuracy: 0.7195 - val_loss: 0.8662 - val_accuracy: 0.7035\n",
      "Epoch 70/100\n",
      "625/625 [==============================] - 20s 32ms/step - loss: 0.8110 - accuracy: 0.7166 - val_loss: 0.8275 - val_accuracy: 0.7117\n",
      "Epoch 71/100\n",
      "625/625 [==============================] - 20s 32ms/step - loss: 0.8221 - accuracy: 0.7128 - val_loss: 0.8402 - val_accuracy: 0.7058\n",
      "Epoch 72/100\n",
      "625/625 [==============================] - 20s 32ms/step - loss: 0.7956 - accuracy: 0.7220 - val_loss: 0.8182 - val_accuracy: 0.7152\n",
      "Epoch 73/100\n",
      "625/625 [==============================] - 20s 32ms/step - loss: 0.8046 - accuracy: 0.7208 - val_loss: 0.8870 - val_accuracy: 0.6938\n",
      "Epoch 74/100\n",
      "625/625 [==============================] - 20s 32ms/step - loss: 0.8018 - accuracy: 0.7176 - val_loss: 0.8839 - val_accuracy: 0.6959\n",
      "Epoch 75/100\n",
      "625/625 [==============================] - 20s 32ms/step - loss: 0.7907 - accuracy: 0.7240 - val_loss: 0.8734 - val_accuracy: 0.6954\n",
      "Epoch 76/100\n",
      "625/625 [==============================] - 20s 32ms/step - loss: 0.8145 - accuracy: 0.7145 - val_loss: 0.8377 - val_accuracy: 0.7081\n",
      "Epoch 77/100\n",
      "625/625 [==============================] - 20s 32ms/step - loss: 0.7982 - accuracy: 0.7225 - val_loss: 0.8616 - val_accuracy: 0.6985\n",
      "Epoch 78/100\n",
      "625/625 [==============================] - 20s 32ms/step - loss: 0.8004 - accuracy: 0.7182 - val_loss: 0.8496 - val_accuracy: 0.7024\n",
      "Epoch 79/100\n",
      "625/625 [==============================] - 20s 32ms/step - loss: 0.7967 - accuracy: 0.7205 - val_loss: 0.8390 - val_accuracy: 0.7064\n",
      "Epoch 80/100\n",
      "625/625 [==============================] - 20s 32ms/step - loss: 0.8029 - accuracy: 0.7197 - val_loss: 0.8563 - val_accuracy: 0.7017\n",
      "Epoch 81/100\n",
      "625/625 [==============================] - 20s 32ms/step - loss: 0.7885 - accuracy: 0.7263 - val_loss: 0.8177 - val_accuracy: 0.7134\n",
      "Epoch 82/100\n",
      "625/625 [==============================] - 20s 32ms/step - loss: 0.7811 - accuracy: 0.7289 - val_loss: 0.8069 - val_accuracy: 0.7187\n",
      "Epoch 83/100\n",
      "625/625 [==============================] - 20s 32ms/step - loss: 0.7904 - accuracy: 0.7254 - val_loss: 0.8209 - val_accuracy: 0.7103\n",
      "Epoch 84/100\n",
      "625/625 [==============================] - 20s 32ms/step - loss: 0.7864 - accuracy: 0.7262 - val_loss: 0.8241 - val_accuracy: 0.7140\n",
      "Epoch 85/100\n",
      "625/625 [==============================] - 20s 32ms/step - loss: 0.7855 - accuracy: 0.7260 - val_loss: 0.8315 - val_accuracy: 0.7159\n",
      "Epoch 86/100\n",
      "625/625 [==============================] - 20s 32ms/step - loss: 0.7814 - accuracy: 0.7309 - val_loss: 0.8847 - val_accuracy: 0.6948\n",
      "Epoch 87/100\n",
      "625/625 [==============================] - 20s 32ms/step - loss: 0.7913 - accuracy: 0.7250 - val_loss: 0.8167 - val_accuracy: 0.7167\n",
      "Epoch 88/100\n",
      "625/625 [==============================] - 20s 32ms/step - loss: 0.7747 - accuracy: 0.7303 - val_loss: 0.8241 - val_accuracy: 0.7179\n",
      "Epoch 89/100\n",
      "625/625 [==============================] - 20s 32ms/step - loss: 0.7753 - accuracy: 0.7295 - val_loss: 0.8038 - val_accuracy: 0.7291\n",
      "Epoch 90/100\n",
      "625/625 [==============================] - 20s 32ms/step - loss: 0.7778 - accuracy: 0.7289 - val_loss: 0.8393 - val_accuracy: 0.7072\n",
      "Epoch 91/100\n",
      "625/625 [==============================] - 20s 32ms/step - loss: 0.7735 - accuracy: 0.7306 - val_loss: 0.8743 - val_accuracy: 0.7011\n",
      "Epoch 92/100\n",
      "625/625 [==============================] - 20s 32ms/step - loss: 0.7827 - accuracy: 0.7276 - val_loss: 0.8130 - val_accuracy: 0.7191\n",
      "Epoch 93/100\n",
      "625/625 [==============================] - 20s 32ms/step - loss: 0.7783 - accuracy: 0.7281 - val_loss: 0.8312 - val_accuracy: 0.7122\n",
      "Epoch 94/100\n",
      "625/625 [==============================] - 20s 32ms/step - loss: 0.7695 - accuracy: 0.7305 - val_loss: 0.8112 - val_accuracy: 0.7191\n",
      "Epoch 95/100\n",
      "625/625 [==============================] - 20s 32ms/step - loss: 0.7713 - accuracy: 0.7320 - val_loss: 0.8564 - val_accuracy: 0.7060\n",
      "Epoch 96/100\n",
      "625/625 [==============================] - 20s 32ms/step - loss: 0.7619 - accuracy: 0.7329 - val_loss: 0.8626 - val_accuracy: 0.6988\n",
      "Epoch 97/100\n",
      "625/625 [==============================] - 20s 32ms/step - loss: 0.7785 - accuracy: 0.7265 - val_loss: 0.8218 - val_accuracy: 0.7180\n",
      "Epoch 98/100\n",
      "625/625 [==============================] - 20s 32ms/step - loss: 0.7722 - accuracy: 0.7320 - val_loss: 0.7749 - val_accuracy: 0.7315\n",
      "Epoch 99/100\n",
      "625/625 [==============================] - 20s 32ms/step - loss: 0.7714 - accuracy: 0.7315 - val_loss: 0.8193 - val_accuracy: 0.7163\n",
      "Epoch 100/100\n",
      "625/625 [==============================] - 20s 32ms/step - loss: 0.7757 - accuracy: 0.7300 - val_loss: 0.8008 - val_accuracy: 0.7207\n"
     ]
    }
   ],
   "source": [
    "history = model.fit(datagen.flow(X_train, y_train, batch_size=64, subset='training'), \n",
    "                    validation_data=datagen.flow(X_train, y_train, batch_size=64, subset='validation'),epochs=100)"
   ]
  },
  {
   "cell_type": "code",
   "execution_count": 7,
   "metadata": {},
   "outputs": [
    {
     "data": {
      "image/png": "[encoded data removed]",
      "text/plain": [
       "<Figure size 432x288 with 1 Axes>"
      ]
     },
     "metadata": {
      "needs_background": "light"
     },
     "output_type": "display_data"
    }
   ],
   "source": [
    "getAccuracyPlot(history, 'Naive CNN [Cifar-10]')"
   ]
  },
  {
   "cell_type": "code",
   "execution_count": 8,
   "metadata": {},
   "outputs": [
    {
     "data": {
      "image/png": "[encoded data removed]",
      "text/plain": [
       "<Figure size 432x288 with 1 Axes>"
      ]
     },
     "metadata": {
      "needs_background": "light"
     },
     "output_type": "display_data"
    }
   ],
   "source": [
    "getLossPlot(history, 'Naive CNN [Cifar-10]')"
   ]
  },
  {
   "cell_type": "code",
   "execution_count": 9,
   "metadata": {},
   "outputs": [],
   "source": [
    "model.save('cifar10_naivecnn_epoch100.h5')"
   ]
  },
  {
   "cell_type": "code",
   "execution_count": 4,
   "metadata": {},
   "outputs": [
    {
     "name": "stdout",
     "output_type": "stream",
     "text": [
      "313/313 [==============================] - 3s 3ms/step - loss: 0.6777 - accuracy: 0.7700\n"
     ]
    },
    {
     "data": {
      "text/plain": [
       "[0.6776972413063049, 0.7699999809265137]"
      ]
     },
     "execution_count": 4,
     "metadata": {},
     "output_type": "execute_result"
    }
   ],
   "source": [
    "from tensorflow.keras.models import load_model\n",
    "model = load_model('cifar10_naivecnn_epoch100.h5')\n",
    "model.evaluate(X_test, y_test)"
   ]
  },
  {
   "cell_type": "markdown",
   "metadata": {
    "id": "WzamoSkaeMFM"
   },
   "source": [
    "### Cifar 100"
   ]
  },
  {
   "cell_type": "code",
   "execution_count": 2,
   "metadata": {
    "id": "oj-7TJJpchfn"
   },
   "outputs": [],
   "source": [
    "cifar100 = tf.keras.datasets.cifar100 #load dataset\n",
    "(X_train, y_train), (X_test, y_test) = cifar100.load_data() #load dataset\n",
    "y_train = tf.keras.utils.to_categorical(y_train, 100) #create one-hot encoding vectors for 10 classes\n",
    "y_test = tf.keras.utils.to_categorical(y_test, 100) #create one-hot encoding vectors for 10 classes\n",
    "\n",
    "\n",
    "datagen = tf.keras.preprocessing.image.ImageDataGenerator(rotation_range=25,\n",
    "                                                          width_shift_range=0.25,\n",
    "                                                          height_shift_range=0.25,\n",
    "                                                          horizontal_flip=True,\n",
    "                                                          validation_split=0.2) #Data Augmentation\n",
    "X_train = X_train.astype('float32') / 255 #Normalization by 255 as it is a 8 bit image\n",
    "X_test = X_test.astype('float32') / 255 #Normalization by 255 as it is a 8 bit image\n",
    "\n",
    "datagen.fit(X_train)  #Applying Data Augmentation to the training dataset\n",
    "\n",
    "input_shape = X_train.shape[1:]\n",
    "output_size = 100"
   ]
  },
  {
   "cell_type": "code",
   "execution_count": 9,
   "metadata": {},
   "outputs": [],
   "source": [
    "model.compile(tf.keras.optimizers.Adam(),\n",
    "              loss=tf.keras.losses.CategoricalCrossentropy(), \n",
    "              metrics=['accuracy'])\n"
   ]
  },
  {
   "cell_type": "code",
   "execution_count": 10,
   "metadata": {},
   "outputs": [
    {
     "name": "stdout",
     "output_type": "stream",
     "text": [
      "Epoch 1/100\n",
      "625/625 [==============================] - 24s 33ms/step - loss: 4.4546 - accuracy: 0.0231 - val_loss: 4.0379 - val_accuracy: 0.0740\n",
      "Epoch 2/100\n",
      "625/625 [==============================] - 21s 33ms/step - loss: 3.9505 - accuracy: 0.0832 - val_loss: 3.8712 - val_accuracy: 0.0943\n",
      "Epoch 3/100\n",
      "625/625 [==============================] - 21s 33ms/step - loss: 3.7506 - accuracy: 0.1142 - val_loss: 3.7203 - val_accuracy: 0.1144\n",
      "Epoch 4/100\n",
      "625/625 [==============================] - 20s 33ms/step - loss: 3.6083 - accuracy: 0.1365 - val_loss: 3.5892 - val_accuracy: 0.1444\n",
      "Epoch 5/100\n",
      "625/625 [==============================] - 21s 33ms/step - loss: 3.4888 - accuracy: 0.1599 - val_loss: 3.4904 - val_accuracy: 0.1605\n",
      "Epoch 6/100\n",
      "625/625 [==============================] - 21s 33ms/step - loss: 3.4098 - accuracy: 0.1769 - val_loss: 3.4296 - val_accuracy: 0.1735\n",
      "Epoch 7/100\n",
      "625/625 [==============================] - 20s 33ms/step - loss: 3.3435 - accuracy: 0.1880 - val_loss: 3.3848 - val_accuracy: 0.1797\n",
      "Epoch 8/100\n",
      "625/625 [==============================] - 21s 33ms/step - loss: 3.2921 - accuracy: 0.1984 - val_loss: 3.3403 - val_accuracy: 0.1868\n",
      "Epoch 9/100\n",
      "625/625 [==============================] - 21s 33ms/step - loss: 3.2317 - accuracy: 0.2072 - val_loss: 3.2975 - val_accuracy: 0.2001\n",
      "Epoch 10/100\n",
      "625/625 [==============================] - 20s 33ms/step - loss: 3.2043 - accuracy: 0.2139 - val_loss: 3.2446 - val_accuracy: 0.1995\n",
      "Epoch 11/100\n",
      "625/625 [==============================] - 20s 33ms/step - loss: 3.1376 - accuracy: 0.2252 - val_loss: 3.2055 - val_accuracy: 0.2110\n",
      "Epoch 12/100\n",
      "625/625 [==============================] - 21s 33ms/step - loss: 3.0888 - accuracy: 0.2389 - val_loss: 3.1654 - val_accuracy: 0.2133\n",
      "Epoch 13/100\n",
      "625/625 [==============================] - 21s 33ms/step - loss: 3.0577 - accuracy: 0.2451 - val_loss: 3.1080 - val_accuracy: 0.2357\n",
      "Epoch 14/100\n",
      "625/625 [==============================] - 21s 33ms/step - loss: 3.0186 - accuracy: 0.2472 - val_loss: 3.0861 - val_accuracy: 0.2340\n",
      "Epoch 15/100\n",
      "625/625 [==============================] - 20s 33ms/step - loss: 2.9992 - accuracy: 0.2517 - val_loss: 3.0707 - val_accuracy: 0.2404\n",
      "Epoch 16/100\n",
      "625/625 [==============================] - 21s 33ms/step - loss: 2.9466 - accuracy: 0.2615 - val_loss: 3.0577 - val_accuracy: 0.2457\n",
      "Epoch 17/100\n",
      "625/625 [==============================] - 21s 33ms/step - loss: 2.9305 - accuracy: 0.2659 - val_loss: 3.0932 - val_accuracy: 0.2317\n",
      "Epoch 18/100\n",
      "625/625 [==============================] - 21s 33ms/step - loss: 2.8938 - accuracy: 0.2750 - val_loss: 2.9834 - val_accuracy: 0.2585\n",
      "Epoch 19/100\n",
      "625/625 [==============================] - 21s 33ms/step - loss: 2.8515 - accuracy: 0.2811 - val_loss: 2.9532 - val_accuracy: 0.2650\n",
      "Epoch 20/100\n",
      "625/625 [==============================] - 21s 33ms/step - loss: 2.8450 - accuracy: 0.2844 - val_loss: 2.9487 - val_accuracy: 0.2633\n",
      "Epoch 21/100\n",
      "625/625 [==============================] - 20s 33ms/step - loss: 2.8317 - accuracy: 0.2919 - val_loss: 2.9932 - val_accuracy: 0.2625\n",
      "Epoch 22/100\n",
      "625/625 [==============================] - 20s 33ms/step - loss: 2.8107 - accuracy: 0.2903 - val_loss: 2.9738 - val_accuracy: 0.2592\n",
      "Epoch 23/100\n",
      "625/625 [==============================] - 20s 33ms/step - loss: 2.8203 - accuracy: 0.2912 - val_loss: 2.9165 - val_accuracy: 0.2711\n",
      "Epoch 24/100\n",
      "625/625 [==============================] - 21s 33ms/step - loss: 2.7802 - accuracy: 0.2972 - val_loss: 2.9391 - val_accuracy: 0.2689\n",
      "Epoch 25/100\n",
      "625/625 [==============================] - 21s 33ms/step - loss: 2.7422 - accuracy: 0.3009 - val_loss: 2.9362 - val_accuracy: 0.2706\n",
      "Epoch 26/100\n",
      "625/625 [==============================] - 21s 33ms/step - loss: 2.7533 - accuracy: 0.3028 - val_loss: 2.8581 - val_accuracy: 0.2800\n",
      "Epoch 27/100\n",
      "625/625 [==============================] - 21s 33ms/step - loss: 2.7162 - accuracy: 0.3071 - val_loss: 2.8830 - val_accuracy: 0.2740\n",
      "Epoch 28/100\n",
      "625/625 [==============================] - 21s 33ms/step - loss: 2.7266 - accuracy: 0.3082 - val_loss: 2.8757 - val_accuracy: 0.2734\n",
      "Epoch 29/100\n",
      "625/625 [==============================] - 21s 33ms/step - loss: 2.6986 - accuracy: 0.3147 - val_loss: 2.9291 - val_accuracy: 0.2698\n",
      "Epoch 30/100\n",
      "625/625 [==============================] - 21s 33ms/step - loss: 2.6666 - accuracy: 0.3173 - val_loss: 2.9417 - val_accuracy: 0.2686\n",
      "Epoch 31/100\n",
      "625/625 [==============================] - 21s 33ms/step - loss: 2.6961 - accuracy: 0.3126 - val_loss: 2.8719 - val_accuracy: 0.2734\n",
      "Epoch 32/100\n",
      "625/625 [==============================] - 21s 33ms/step - loss: 2.6692 - accuracy: 0.3162 - val_loss: 2.8135 - val_accuracy: 0.2891\n",
      "Epoch 33/100\n",
      "625/625 [==============================] - 21s 33ms/step - loss: 2.6546 - accuracy: 0.3197 - val_loss: 2.9134 - val_accuracy: 0.2696\n",
      "Epoch 34/100\n",
      "625/625 [==============================] - 21s 33ms/step - loss: 2.6388 - accuracy: 0.3292 - val_loss: 2.8519 - val_accuracy: 0.2812\n",
      "Epoch 35/100\n",
      "625/625 [==============================] - 21s 33ms/step - loss: 2.6351 - accuracy: 0.3253 - val_loss: 2.8250 - val_accuracy: 0.2934\n",
      "Epoch 36/100\n",
      "625/625 [==============================] - 20s 33ms/step - loss: 2.6298 - accuracy: 0.3300 - val_loss: 2.8895 - val_accuracy: 0.2746\n",
      "Epoch 37/100\n",
      "625/625 [==============================] - 21s 33ms/step - loss: 2.6325 - accuracy: 0.3229 - val_loss: 2.8704 - val_accuracy: 0.2812\n",
      "Epoch 38/100\n",
      "625/625 [==============================] - 21s 33ms/step - loss: 2.6179 - accuracy: 0.3346 - val_loss: 2.7909 - val_accuracy: 0.2946\n",
      "Epoch 39/100\n",
      "625/625 [==============================] - 21s 33ms/step - loss: 2.6140 - accuracy: 0.3264 - val_loss: 2.8736 - val_accuracy: 0.2758\n",
      "Epoch 40/100\n",
      "625/625 [==============================] - 21s 33ms/step - loss: 2.6069 - accuracy: 0.3303 - val_loss: 2.7671 - val_accuracy: 0.2999\n",
      "Epoch 41/100\n",
      "625/625 [==============================] - 21s 33ms/step - loss: 2.5860 - accuracy: 0.3361 - val_loss: 2.7905 - val_accuracy: 0.2966\n",
      "Epoch 42/100\n",
      "625/625 [==============================] - 20s 33ms/step - loss: 2.5741 - accuracy: 0.3369 - val_loss: 2.7788 - val_accuracy: 0.2949\n",
      "Epoch 43/100\n",
      "625/625 [==============================] - 21s 33ms/step - loss: 2.5921 - accuracy: 0.3352 - val_loss: 2.8167 - val_accuracy: 0.2933\n",
      "Epoch 44/100\n",
      "625/625 [==============================] - 21s 33ms/step - loss: 2.5730 - accuracy: 0.3380 - val_loss: 2.7878 - val_accuracy: 0.3033\n",
      "Epoch 45/100\n",
      "625/625 [==============================] - 21s 33ms/step - loss: 2.5540 - accuracy: 0.3410 - val_loss: 2.7951 - val_accuracy: 0.2905\n",
      "Epoch 46/100\n",
      "625/625 [==============================] - 20s 33ms/step - loss: 2.5447 - accuracy: 0.3438 - val_loss: 2.7947 - val_accuracy: 0.2948\n",
      "Epoch 47/100\n",
      "625/625 [==============================] - 21s 33ms/step - loss: 2.5609 - accuracy: 0.3415 - val_loss: 2.7631 - val_accuracy: 0.3069\n",
      "Epoch 48/100\n",
      "625/625 [==============================] - 21s 33ms/step - loss: 2.5632 - accuracy: 0.3407 - val_loss: 2.7289 - val_accuracy: 0.3128\n",
      "Epoch 49/100\n",
      "625/625 [==============================] - 21s 33ms/step - loss: 2.5592 - accuracy: 0.3442 - val_loss: 2.7130 - val_accuracy: 0.3140\n",
      "Epoch 50/100\n",
      "625/625 [==============================] - 21s 33ms/step - loss: 2.5367 - accuracy: 0.3431 - val_loss: 2.7307 - val_accuracy: 0.3085\n",
      "Epoch 51/100\n",
      "625/625 [==============================] - 21s 33ms/step - loss: 2.5180 - accuracy: 0.3487 - val_loss: 2.7919 - val_accuracy: 0.2962\n",
      "Epoch 52/100\n",
      "625/625 [==============================] - 21s 33ms/step - loss: 2.5100 - accuracy: 0.3505 - val_loss: 2.7698 - val_accuracy: 0.2951\n",
      "Epoch 53/100\n",
      "625/625 [==============================] - 20s 33ms/step - loss: 2.5063 - accuracy: 0.3512 - val_loss: 2.7437 - val_accuracy: 0.2970\n",
      "Epoch 54/100\n",
      "625/625 [==============================] - 20s 33ms/step - loss: 2.5139 - accuracy: 0.3525 - val_loss: 2.7671 - val_accuracy: 0.3058\n",
      "Epoch 55/100\n",
      "625/625 [==============================] - 21s 33ms/step - loss: 2.4926 - accuracy: 0.3559 - val_loss: 2.7175 - val_accuracy: 0.3135\n",
      "Epoch 56/100\n",
      "625/625 [==============================] - 20s 33ms/step - loss: 2.5009 - accuracy: 0.3576 - val_loss: 2.7912 - val_accuracy: 0.2955\n",
      "Epoch 57/100\n",
      "625/625 [==============================] - 20s 33ms/step - loss: 2.4957 - accuracy: 0.3540 - val_loss: 2.6886 - val_accuracy: 0.3180\n",
      "Epoch 58/100\n",
      "625/625 [==============================] - 21s 33ms/step - loss: 2.4757 - accuracy: 0.3577 - val_loss: 2.7106 - val_accuracy: 0.3136\n",
      "Epoch 59/100\n",
      "625/625 [==============================] - 21s 33ms/step - loss: 2.4875 - accuracy: 0.3590 - val_loss: 2.7034 - val_accuracy: 0.3083\n",
      "Epoch 60/100\n",
      "625/625 [==============================] - 20s 33ms/step - loss: 2.4880 - accuracy: 0.3544 - val_loss: 2.6676 - val_accuracy: 0.3202\n",
      "Epoch 61/100\n",
      "625/625 [==============================] - 20s 33ms/step - loss: 2.4663 - accuracy: 0.3604 - val_loss: 2.7310 - val_accuracy: 0.3071\n",
      "Epoch 62/100\n",
      "625/625 [==============================] - 21s 33ms/step - loss: 2.4698 - accuracy: 0.3599 - val_loss: 2.6954 - val_accuracy: 0.3149\n",
      "Epoch 63/100\n",
      "625/625 [==============================] - 21s 33ms/step - loss: 2.4628 - accuracy: 0.3610 - val_loss: 2.6954 - val_accuracy: 0.3135\n",
      "Epoch 64/100\n",
      "625/625 [==============================] - 21s 33ms/step - loss: 2.4613 - accuracy: 0.3628 - val_loss: 2.7520 - val_accuracy: 0.3035\n",
      "Epoch 65/100\n",
      "625/625 [==============================] - 20s 33ms/step - loss: 2.4592 - accuracy: 0.3658 - val_loss: 2.6761 - val_accuracy: 0.3186\n",
      "Epoch 66/100\n",
      "625/625 [==============================] - 20s 33ms/step - loss: 2.4641 - accuracy: 0.3593 - val_loss: 2.6964 - val_accuracy: 0.3121\n",
      "Epoch 67/100\n",
      "625/625 [==============================] - 21s 33ms/step - loss: 2.4450 - accuracy: 0.3609 - val_loss: 2.6618 - val_accuracy: 0.3213\n",
      "Epoch 68/100\n",
      "625/625 [==============================] - 20s 33ms/step - loss: 2.4395 - accuracy: 0.3692 - val_loss: 2.6854 - val_accuracy: 0.3124\n",
      "Epoch 69/100\n",
      "625/625 [==============================] - 21s 33ms/step - loss: 2.4553 - accuracy: 0.3621 - val_loss: 2.6081 - val_accuracy: 0.3325\n",
      "Epoch 70/100\n",
      "625/625 [==============================] - 20s 33ms/step - loss: 2.4663 - accuracy: 0.3635 - val_loss: 2.6336 - val_accuracy: 0.3283\n",
      "Epoch 71/100\n",
      "625/625 [==============================] - 20s 33ms/step - loss: 2.4387 - accuracy: 0.3692 - val_loss: 2.7414 - val_accuracy: 0.3067\n",
      "Epoch 72/100\n",
      "625/625 [==============================] - 20s 33ms/step - loss: 2.4412 - accuracy: 0.3674 - val_loss: 2.6321 - val_accuracy: 0.3271\n",
      "Epoch 73/100\n",
      "625/625 [==============================] - 21s 33ms/step - loss: 2.4392 - accuracy: 0.3642 - val_loss: 2.6939 - val_accuracy: 0.3150\n",
      "Epoch 74/100\n",
      "625/625 [==============================] - 21s 33ms/step - loss: 2.4230 - accuracy: 0.3724 - val_loss: 2.6772 - val_accuracy: 0.3179\n",
      "Epoch 75/100\n",
      "625/625 [==============================] - 21s 33ms/step - loss: 2.4251 - accuracy: 0.3681 - val_loss: 2.7266 - val_accuracy: 0.3152\n",
      "Epoch 76/100\n",
      "625/625 [==============================] - 21s 33ms/step - loss: 2.4284 - accuracy: 0.3709 - val_loss: 2.6278 - val_accuracy: 0.3320\n",
      "Epoch 77/100\n",
      "625/625 [==============================] - 20s 33ms/step - loss: 2.4041 - accuracy: 0.3755 - val_loss: 2.6290 - val_accuracy: 0.3306\n",
      "Epoch 78/100\n",
      "625/625 [==============================] - 20s 33ms/step - loss: 2.4225 - accuracy: 0.3691 - val_loss: 2.6597 - val_accuracy: 0.3240\n",
      "Epoch 79/100\n",
      "625/625 [==============================] - 21s 33ms/step - loss: 2.4178 - accuracy: 0.3710 - val_loss: 2.6410 - val_accuracy: 0.3259\n",
      "Epoch 80/100\n",
      "625/625 [==============================] - 20s 33ms/step - loss: 2.3783 - accuracy: 0.3780 - val_loss: 2.6437 - val_accuracy: 0.3281\n",
      "Epoch 81/100\n",
      "625/625 [==============================] - 20s 33ms/step - loss: 2.4014 - accuracy: 0.3741 - val_loss: 2.6965 - val_accuracy: 0.3158\n",
      "Epoch 82/100\n",
      "625/625 [==============================] - 20s 33ms/step - loss: 2.3921 - accuracy: 0.3778 - val_loss: 2.6218 - val_accuracy: 0.3315\n",
      "Epoch 83/100\n",
      "625/625 [==============================] - 20s 33ms/step - loss: 2.3907 - accuracy: 0.3772 - val_loss: 2.6726 - val_accuracy: 0.3253\n",
      "Epoch 84/100\n",
      "625/625 [==============================] - 20s 33ms/step - loss: 2.3911 - accuracy: 0.3759 - val_loss: 2.6576 - val_accuracy: 0.3225\n",
      "Epoch 85/100\n",
      "625/625 [==============================] - 20s 33ms/step - loss: 2.3732 - accuracy: 0.3811 - val_loss: 2.6445 - val_accuracy: 0.3253\n",
      "Epoch 86/100\n",
      "625/625 [==============================] - 20s 33ms/step - loss: 2.3777 - accuracy: 0.3783 - val_loss: 2.6274 - val_accuracy: 0.3334\n",
      "Epoch 87/100\n",
      "625/625 [==============================] - 21s 33ms/step - loss: 2.3638 - accuracy: 0.3815 - val_loss: 2.6584 - val_accuracy: 0.3257\n",
      "Epoch 88/100\n",
      "625/625 [==============================] - 21s 33ms/step - loss: 2.3615 - accuracy: 0.3806 - val_loss: 2.6312 - val_accuracy: 0.3283\n",
      "Epoch 89/100\n",
      "625/625 [==============================] - 20s 33ms/step - loss: 2.3683 - accuracy: 0.3846 - val_loss: 2.6052 - val_accuracy: 0.3327\n",
      "Epoch 90/100\n",
      "625/625 [==============================] - 20s 33ms/step - loss: 2.3808 - accuracy: 0.3828 - val_loss: 2.6277 - val_accuracy: 0.3215\n",
      "Epoch 91/100\n",
      "625/625 [==============================] - 21s 33ms/step - loss: 2.3474 - accuracy: 0.3901 - val_loss: 2.6400 - val_accuracy: 0.3310\n",
      "Epoch 92/100\n",
      "625/625 [==============================] - 20s 32ms/step - loss: 2.3846 - accuracy: 0.3790 - val_loss: 2.6880 - val_accuracy: 0.3170\n",
      "Epoch 93/100\n",
      "625/625 [==============================] - 20s 32ms/step - loss: 2.3729 - accuracy: 0.3839 - val_loss: 2.6214 - val_accuracy: 0.3287\n",
      "Epoch 94/100\n",
      "625/625 [==============================] - 20s 32ms/step - loss: 2.3706 - accuracy: 0.3771 - val_loss: 2.6279 - val_accuracy: 0.3347\n",
      "Epoch 95/100\n",
      "625/625 [==============================] - 20s 32ms/step - loss: 2.3539 - accuracy: 0.3846 - val_loss: 2.6443 - val_accuracy: 0.3214\n",
      "Epoch 96/100\n",
      "625/625 [==============================] - 20s 32ms/step - loss: 2.3708 - accuracy: 0.3775 - val_loss: 2.6444 - val_accuracy: 0.3296\n",
      "Epoch 97/100\n",
      "625/625 [==============================] - 20s 32ms/step - loss: 2.3551 - accuracy: 0.3837 - val_loss: 2.6066 - val_accuracy: 0.3366\n",
      "Epoch 98/100\n",
      "625/625 [==============================] - 20s 32ms/step - loss: 2.3289 - accuracy: 0.3880 - val_loss: 2.5935 - val_accuracy: 0.3449\n",
      "Epoch 99/100\n",
      "625/625 [==============================] - 20s 32ms/step - loss: 2.3460 - accuracy: 0.3877 - val_loss: 2.5654 - val_accuracy: 0.3419\n",
      "Epoch 100/100\n",
      "625/625 [==============================] - 20s 32ms/step - loss: 2.3282 - accuracy: 0.3959 - val_loss: 2.6796 - val_accuracy: 0.3213\n"
     ]
    }
   ],
   "source": [
    "\n",
    "history = model.fit(datagen.flow(X_train, y_train, batch_size=64, subset='training'), \n",
    "                    validation_data=datagen.flow(X_train, y_train, batch_size=64, subset='validation'),epochs=100)"
   ]
  },
  {
   "cell_type": "code",
   "execution_count": 11,
   "metadata": {},
   "outputs": [
    {
     "data": {
      "image/png": "[encoded data removed]",
      "text/plain": [
       "<Figure size 432x288 with 1 Axes>"
      ]
     },
     "metadata": {
      "needs_background": "light"
     },
     "output_type": "display_data"
    }
   ],
   "source": [
    "getAccuracyPlot(history, 'Naive CNN [Cifar-100]')"
   ]
  },
  {
   "cell_type": "code",
   "execution_count": 12,
   "metadata": {},
   "outputs": [
    {
     "data": {
      "image/png": "[encoded data removed]",
      "text/plain": [
       "<Figure size 432x288 with 1 Axes>"
      ]
     },
     "metadata": {
      "needs_background": "light"
     },
     "output_type": "display_data"
    }
   ],
   "source": [
    "getLossPlot(history, 'Naive CNN [Cifar-100]')"
   ]
  },
  {
   "cell_type": "code",
   "execution_count": 13,
   "metadata": {},
   "outputs": [],
   "source": [
    "model.save('cifar100_naivecnn_epoch100.h5')"
   ]
  },
  {
   "cell_type": "code",
   "execution_count": 3,
   "metadata": {},
   "outputs": [
    {
     "name": "stdout",
     "output_type": "stream",
     "text": [
      "313/313 [==============================] - 4s 3ms/step - loss: 2.4702 - accuracy: 0.3701\n"
     ]
    },
    {
     "data": {
      "text/plain": [
       "[2.4701716899871826, 0.3700999915599823]"
      ]
     },
     "execution_count": 3,
     "metadata": {},
     "output_type": "execute_result"
    }
   ],
   "source": [
    "from tensorflow.keras.models import load_model\n",
    "model = load_model('cifar100_naivecnn_epoch100.h5')\n",
    "model.evaluate(X_test, y_test)"
   ]
  }
 ],
 "metadata": {
  "accelerator": "GPU",
  "colab": {
   "name": "cifar100_92.ipynb",
   "provenance": []
  },
  "kernelspec": {
   "display_name": "Python 3",
   "language": "python",
   "name": "python3"
  },
  "language_info": {
   "codemirror_mode": {
    "name": "ipython",
    "version": 3
   },
   "file_extension": ".py",
   "mimetype": "text/x-python",
   "name": "python",
   "nbconvert_exporter": "python",
   "pygments_lexer": "ipython3",
   "version": "3.6.9"
  }
 },
 "nbformat": 4,
 "nbformat_minor": 1
}
