{
 "cells": [
  {
   "cell_type": "code",
   "execution_count": 2,
   "id": "cb38e872",
   "metadata": {},
   "outputs": [],
   "source": [
    "import tensorflow as tf\n",
    "from utils.architectures import resnet_152\n",
    "from utils.plot import getAccuracyPlot, getLossPlot"
   ]
  },
  {
   "cell_type": "code",
   "execution_count": 3,
   "id": "519e545a",
   "metadata": {},
   "outputs": [],
   "source": [
    "cifar100 = tf.keras.datasets.cifar100 #load dataset\n",
    "(X_train, y_train), (X_test, y_test) = cifar100.load_data() #load dataset\n",
    "y_train = tf.keras.utils.to_categorical(y_train, 100) #create one-hot encoding vectors for 10 classes\n",
    "y_test = tf.keras.utils.to_categorical(y_test, 100) #create one-hot encoding vectors for 10 classes\n",
    "\n",
    "\n",
    "datagen = tf.keras.preprocessing.image.ImageDataGenerator(rotation_range=25,\n",
    "                                                          width_shift_range=0.25,\n",
    "                                                          height_shift_range=0.25,\n",
    "                                                          horizontal_flip=True,\n",
    "                                                          validation_split=0.2) #Data Augmentation\n",
    "X_train = X_train.astype('float32') / 255 #Normalization by 255 as it is a 8 bit image\n",
    "X_test = X_test.astype('float32') / 255 #Normalization by 255 as it is a 8 bit image\n",
    "\n",
    "datagen.fit(X_train)  #Applying Data Augmentation to the training dataset\n",
    "\n",
    "input_shape = X_train.shape[1:]\n",
    "output_size = 100"
   ]
  },
  {
   "cell_type": "code",
   "execution_count": 8,
   "id": "fc421645",
   "metadata": {},
   "outputs": [],
   "source": [
    "model = resnet_152(output_size)"
   ]
  },
  {
   "cell_type": "code",
   "execution_count": 9,
   "id": "c77a4a64",
   "metadata": {},
   "outputs": [],
   "source": [
    "\n",
    "model.compile(tf.keras.optimizers.Adam(),\n",
    "              loss=tf.keras.losses.CategoricalCrossentropy(), \n",
    "              metrics=['accuracy'])"
   ]
  },
  {
   "cell_type": "code",
   "execution_count": 10,
   "id": "91d2140a",
   "metadata": {},
   "outputs": [
    {
     "name": "stdout",
     "output_type": "stream",
     "text": [
      "Model: \"sequential_1\"\n",
      "_________________________________________________________________\n",
      "Layer (type)                 Output Shape              Param #   \n",
      "=================================================================\n",
      "resnet152 (Functional)       (None, 2048)              58370944  \n",
      "_________________________________________________________________\n",
      "dense_1 (Dense)              (None, 100)               204900    \n",
      "=================================================================\n",
      "Total params: 58,575,844\n",
      "Trainable params: 58,424,420\n",
      "Non-trainable params: 151,424\n",
      "_________________________________________________________________\n"
     ]
    }
   ],
   "source": [
    "model.summary()"
   ]
  },
  {
   "cell_type": "code",
   "execution_count": 11,
   "id": "b2402303",
   "metadata": {},
   "outputs": [
    {
     "name": "stdout",
     "output_type": "stream",
     "text": [
      "Epoch 1/100\n",
      "625/625 [==============================] - 114s 156ms/step - loss: 4.8876 - accuracy: 0.0248 - val_loss: 5.6031 - val_accuracy: 0.0105\n",
      "Epoch 2/100\n",
      "625/625 [==============================] - 94s 150ms/step - loss: 4.3264 - accuracy: 0.0437 - val_loss: 5.7644 - val_accuracy: 0.0216\n",
      "Epoch 3/100\n",
      "625/625 [==============================] - 94s 150ms/step - loss: 4.1431 - accuracy: 0.0615 - val_loss: 4.5414 - val_accuracy: 0.0491\n",
      "Epoch 4/100\n",
      "625/625 [==============================] - 93s 149ms/step - loss: 3.8138 - accuracy: 0.1026 - val_loss: 4.3793 - val_accuracy: 0.0826\n",
      "Epoch 5/100\n",
      "625/625 [==============================] - 93s 149ms/step - loss: 3.7031 - accuracy: 0.1217 - val_loss: 3.9266 - val_accuracy: 0.1118\n",
      "Epoch 6/100\n",
      "625/625 [==============================] - 94s 150ms/step - loss: 3.5654 - accuracy: 0.1433 - val_loss: 3.6087 - val_accuracy: 0.1401\n",
      "Epoch 7/100\n",
      "625/625 [==============================] - 93s 150ms/step - loss: 3.3730 - accuracy: 0.1694 - val_loss: 3.5477 - val_accuracy: 0.1681\n",
      "Epoch 8/100\n",
      "625/625 [==============================] - 93s 149ms/step - loss: 3.2323 - accuracy: 0.1973 - val_loss: 41.0399 - val_accuracy: 0.0959\n",
      "Epoch 9/100\n",
      "625/625 [==============================] - 93s 149ms/step - loss: 3.1411 - accuracy: 0.2164 - val_loss: 7.8308 - val_accuracy: 0.1611\n",
      "Epoch 10/100\n",
      "625/625 [==============================] - 93s 149ms/step - loss: 3.0708 - accuracy: 0.2262 - val_loss: 8.5547 - val_accuracy: 0.1519\n",
      "Epoch 11/100\n",
      "625/625 [==============================] - 93s 149ms/step - loss: 3.0280 - accuracy: 0.2357 - val_loss: 3.3727 - val_accuracy: 0.1948\n",
      "Epoch 12/100\n",
      "625/625 [==============================] - 93s 149ms/step - loss: 2.9779 - accuracy: 0.2496 - val_loss: 3.3465 - val_accuracy: 0.2029\n",
      "Epoch 13/100\n",
      "625/625 [==============================] - 93s 149ms/step - loss: 2.8910 - accuracy: 0.2658 - val_loss: 3.6434 - val_accuracy: 0.1759\n",
      "Epoch 14/100\n",
      "625/625 [==============================] - 94s 150ms/step - loss: 2.7566 - accuracy: 0.2862 - val_loss: 5.8857 - val_accuracy: 0.2327\n",
      "Epoch 15/100\n",
      "625/625 [==============================] - 93s 149ms/step - loss: 2.7119 - accuracy: 0.2987 - val_loss: 16.7861 - val_accuracy: 0.0754\n",
      "Epoch 16/100\n",
      "625/625 [==============================] - 93s 149ms/step - loss: 2.8340 - accuracy: 0.2765 - val_loss: 4.8058 - val_accuracy: 0.0887\n",
      "Epoch 17/100\n",
      "625/625 [==============================] - 94s 150ms/step - loss: 2.7241 - accuracy: 0.2958 - val_loss: 3.9667 - val_accuracy: 0.1354\n",
      "Epoch 18/100\n",
      "625/625 [==============================] - 94s 150ms/step - loss: 2.9477 - accuracy: 0.2555 - val_loss: 37.0583 - val_accuracy: 0.2426\n",
      "Epoch 19/100\n",
      "625/625 [==============================] - 94s 150ms/step - loss: 2.6754 - accuracy: 0.3014 - val_loss: 9.9110 - val_accuracy: 0.0134\n",
      "Epoch 20/100\n",
      "625/625 [==============================] - 94s 151ms/step - loss: 2.8527 - accuracy: 0.2764 - val_loss: 4.3902 - val_accuracy: 0.1272\n",
      "Epoch 21/100\n",
      "625/625 [==============================] - 94s 150ms/step - loss: 2.7972 - accuracy: 0.2877 - val_loss: 3.0477 - val_accuracy: 0.2671\n",
      "Epoch 22/100\n",
      "625/625 [==============================] - 94s 151ms/step - loss: 2.7351 - accuracy: 0.2969 - val_loss: 4.5525 - val_accuracy: 0.1535\n",
      "Epoch 23/100\n",
      "625/625 [==============================] - 94s 150ms/step - loss: 2.8857 - accuracy: 0.2684 - val_loss: 18.8769 - val_accuracy: 0.2577\n",
      "Epoch 24/100\n",
      "625/625 [==============================] - 94s 151ms/step - loss: 2.8032 - accuracy: 0.2859 - val_loss: 4.4163 - val_accuracy: 0.1948\n",
      "Epoch 25/100\n",
      "625/625 [==============================] - 95s 151ms/step - loss: 2.8771 - accuracy: 0.2649 - val_loss: 6.4814 - val_accuracy: 0.2687\n",
      "Epoch 26/100\n",
      "625/625 [==============================] - 96s 153ms/step - loss: 2.5895 - accuracy: 0.3236 - val_loss: 27.4569 - val_accuracy: 0.3041\n",
      "Epoch 27/100\n",
      "625/625 [==============================] - 95s 152ms/step - loss: 2.6367 - accuracy: 0.3146 - val_loss: 6.4420 - val_accuracy: 0.1902\n",
      "Epoch 28/100\n",
      "625/625 [==============================] - 94s 151ms/step - loss: 2.7259 - accuracy: 0.2968 - val_loss: 3.6326 - val_accuracy: 0.2501\n",
      "Epoch 29/100\n",
      "625/625 [==============================] - 94s 151ms/step - loss: 2.4837 - accuracy: 0.3403 - val_loss: 10.6594 - val_accuracy: 0.3108\n",
      "Epoch 30/100\n",
      "625/625 [==============================] - 94s 151ms/step - loss: 2.3521 - accuracy: 0.3682 - val_loss: 5.0523 - val_accuracy: 0.3132\n",
      "Epoch 31/100\n",
      "625/625 [==============================] - 94s 150ms/step - loss: 2.2950 - accuracy: 0.3797 - val_loss: 33.6829 - val_accuracy: 0.2998\n",
      "Epoch 32/100\n",
      "625/625 [==============================] - 94s 150ms/step - loss: 2.2350 - accuracy: 0.3945 - val_loss: 42351.7578 - val_accuracy: 0.0247\n",
      "Epoch 33/100\n",
      "625/625 [==============================] - 94s 150ms/step - loss: 3.0821 - accuracy: 0.2389 - val_loss: 14.6634 - val_accuracy: 0.2578\n",
      "Epoch 34/100\n",
      "625/625 [==============================] - 94s 151ms/step - loss: 2.5931 - accuracy: 0.3187 - val_loss: 15.5648 - val_accuracy: 0.2868\n",
      "Epoch 35/100\n",
      "625/625 [==============================] - 94s 150ms/step - loss: 2.5805 - accuracy: 0.3294 - val_loss: 7.2616 - val_accuracy: 0.1405\n",
      "Epoch 36/100\n",
      "625/625 [==============================] - 93s 149ms/step - loss: 2.8871 - accuracy: 0.2704 - val_loss: 9.1936 - val_accuracy: 0.2621\n",
      "Epoch 37/100\n",
      "625/625 [==============================] - 93s 149ms/step - loss: 2.6371 - accuracy: 0.3131 - val_loss: 7.0541 - val_accuracy: 0.2811\n",
      "Epoch 38/100\n",
      "625/625 [==============================] - 94s 150ms/step - loss: 2.4633 - accuracy: 0.3478 - val_loss: 15.2975 - val_accuracy: 0.3023\n",
      "Epoch 39/100\n",
      "625/625 [==============================] - 93s 150ms/step - loss: 2.4350 - accuracy: 0.3541 - val_loss: 25.7216 - val_accuracy: 0.2855\n",
      "Epoch 40/100\n",
      "625/625 [==============================] - 94s 150ms/step - loss: 2.4232 - accuracy: 0.3557 - val_loss: 27.8233 - val_accuracy: 0.3099\n",
      "Epoch 41/100\n",
      "625/625 [==============================] - 94s 150ms/step - loss: 2.2821 - accuracy: 0.3882 - val_loss: 51.0329 - val_accuracy: 0.3154\n",
      "Epoch 42/100\n",
      "625/625 [==============================] - 93s 149ms/step - loss: 2.2271 - accuracy: 0.3939 - val_loss: 4050.5493 - val_accuracy: 0.2719\n",
      "Epoch 43/100\n",
      "625/625 [==============================] - 93s 149ms/step - loss: 2.1633 - accuracy: 0.4089 - val_loss: 50.1834 - val_accuracy: 0.2472\n",
      "Epoch 44/100\n",
      "625/625 [==============================] - 93s 149ms/step - loss: 2.1321 - accuracy: 0.4165 - val_loss: 79.4291 - val_accuracy: 0.3302\n",
      "Epoch 45/100\n",
      "625/625 [==============================] - 93s 149ms/step - loss: 2.0657 - accuracy: 0.4325 - val_loss: 259.3905 - val_accuracy: 0.3357\n",
      "Epoch 46/100\n",
      "625/625 [==============================] - 93s 149ms/step - loss: 1.9912 - accuracy: 0.4472 - val_loss: 247.4160 - val_accuracy: 0.3429\n",
      "Epoch 47/100\n",
      "625/625 [==============================] - 93s 149ms/step - loss: 1.9702 - accuracy: 0.4497 - val_loss: 12.7686 - val_accuracy: 0.2733\n",
      "Epoch 48/100\n",
      "625/625 [==============================] - 93s 149ms/step - loss: 2.0092 - accuracy: 0.4451 - val_loss: 624.8217 - val_accuracy: 0.2726\n",
      "Epoch 49/100\n",
      "625/625 [==============================] - 93s 149ms/step - loss: 1.9698 - accuracy: 0.4505 - val_loss: 424.8630 - val_accuracy: 0.3471\n",
      "Epoch 50/100\n",
      "625/625 [==============================] - 93s 149ms/step - loss: 2.0598 - accuracy: 0.4356 - val_loss: 1259.1245 - val_accuracy: 0.3016\n",
      "Epoch 51/100\n",
      "625/625 [==============================] - 93s 149ms/step - loss: 2.0906 - accuracy: 0.4276 - val_loss: 8671.3008 - val_accuracy: 0.1853\n",
      "Epoch 52/100\n",
      "625/625 [==============================] - 93s 149ms/step - loss: 1.9298 - accuracy: 0.4680 - val_loss: 677.9785 - val_accuracy: 0.3243\n",
      "Epoch 53/100\n",
      "625/625 [==============================] - 93s 149ms/step - loss: 1.8797 - accuracy: 0.4789 - val_loss: 529.9432 - val_accuracy: 0.3191\n",
      "Epoch 54/100\n",
      "625/625 [==============================] - 93s 149ms/step - loss: 1.8075 - accuracy: 0.4897 - val_loss: 2716.8086 - val_accuracy: 0.3422\n",
      "Epoch 55/100\n",
      "625/625 [==============================] - 93s 149ms/step - loss: 1.7406 - accuracy: 0.5031 - val_loss: 8929.0713 - val_accuracy: 0.3356\n",
      "Epoch 56/100\n",
      "625/625 [==============================] - 93s 149ms/step - loss: 1.7016 - accuracy: 0.5174 - val_loss: 17276.1152 - val_accuracy: 0.3207\n",
      "Epoch 57/100\n",
      "625/625 [==============================] - 93s 149ms/step - loss: 1.6682 - accuracy: 0.5198 - val_loss: 9731.5156 - val_accuracy: 0.3512\n",
      "Epoch 58/100\n",
      "625/625 [==============================] - 94s 150ms/step - loss: 1.7268 - accuracy: 0.5111 - val_loss: 3410.4192 - val_accuracy: 0.1295\n",
      "Epoch 59/100\n",
      "625/625 [==============================] - 94s 150ms/step - loss: 2.3741 - accuracy: 0.3687 - val_loss: 1096.7905 - val_accuracy: 0.3150\n",
      "Epoch 60/100\n",
      "625/625 [==============================] - 94s 150ms/step - loss: 1.8955 - accuracy: 0.4723 - val_loss: 132.7117 - val_accuracy: 0.3216\n",
      "Epoch 61/100\n",
      "625/625 [==============================] - 94s 150ms/step - loss: 1.8781 - accuracy: 0.4761 - val_loss: 4969.4946 - val_accuracy: 0.3106\n",
      "Epoch 62/100\n",
      "625/625 [==============================] - 94s 150ms/step - loss: 1.9980 - accuracy: 0.4553 - val_loss: 8077.9624 - val_accuracy: 0.3187\n",
      "Epoch 63/100\n",
      "625/625 [==============================] - 94s 150ms/step - loss: 1.8585 - accuracy: 0.4827 - val_loss: 6567.9966 - val_accuracy: 0.3500\n",
      "Epoch 64/100\n",
      "625/625 [==============================] - 94s 150ms/step - loss: 1.7289 - accuracy: 0.5114 - val_loss: 985.6970 - val_accuracy: 0.3585\n",
      "Epoch 65/100\n",
      "625/625 [==============================] - 94s 150ms/step - loss: 1.8859 - accuracy: 0.4756 - val_loss: 4587.0596 - val_accuracy: 0.3270\n",
      "Epoch 66/100\n",
      "625/625 [==============================] - 94s 150ms/step - loss: 2.1964 - accuracy: 0.4147 - val_loss: 157020.1875 - val_accuracy: 0.2642\n",
      "Epoch 67/100\n",
      "625/625 [==============================] - 94s 150ms/step - loss: 2.4411 - accuracy: 0.3543 - val_loss: 61364.5625 - val_accuracy: 0.2794\n",
      "Epoch 68/100\n",
      "625/625 [==============================] - 94s 150ms/step - loss: 2.2816 - accuracy: 0.3872 - val_loss: 23460.9277 - val_accuracy: 0.2966\n",
      "Epoch 69/100\n",
      "625/625 [==============================] - 94s 150ms/step - loss: 2.2069 - accuracy: 0.4022 - val_loss: 362882.8750 - val_accuracy: 0.2965\n",
      "Epoch 70/100\n",
      "625/625 [==============================] - 94s 150ms/step - loss: 2.1328 - accuracy: 0.4212 - val_loss: 43058.2734 - val_accuracy: 0.3044\n",
      "Epoch 71/100\n",
      "625/625 [==============================] - 94s 150ms/step - loss: 2.0648 - accuracy: 0.4400 - val_loss: 374075.9688 - val_accuracy: 0.2974\n",
      "Epoch 72/100\n",
      "625/625 [==============================] - 94s 150ms/step - loss: 2.0188 - accuracy: 0.4411 - val_loss: 182962.9219 - val_accuracy: 0.3068\n",
      "Epoch 73/100\n",
      "625/625 [==============================] - 94s 150ms/step - loss: 1.9736 - accuracy: 0.4514 - val_loss: 160949.8281 - val_accuracy: 0.3142\n",
      "Epoch 74/100\n",
      "625/625 [==============================] - 94s 150ms/step - loss: 1.9251 - accuracy: 0.4670 - val_loss: 342948.2812 - val_accuracy: 0.3031\n",
      "Epoch 75/100\n",
      "625/625 [==============================] - 94s 150ms/step - loss: 1.9503 - accuracy: 0.4624 - val_loss: 31989.2168 - val_accuracy: 0.3181\n",
      "Epoch 76/100\n",
      "625/625 [==============================] - 94s 150ms/step - loss: 1.9487 - accuracy: 0.4589 - val_loss: 3397.4087 - val_accuracy: 0.2974\n",
      "Epoch 77/100\n",
      "625/625 [==============================] - 94s 151ms/step - loss: 1.9990 - accuracy: 0.4525 - val_loss: 37.9129 - val_accuracy: 0.2293\n",
      "Epoch 78/100\n",
      "625/625 [==============================] - 94s 151ms/step - loss: 1.9667 - accuracy: 0.4596 - val_loss: 8487.8916 - val_accuracy: 0.3227\n",
      "Epoch 79/100\n",
      "625/625 [==============================] - 94s 150ms/step - loss: 1.8110 - accuracy: 0.4932 - val_loss: 119552.0859 - val_accuracy: 0.3172\n",
      "Epoch 80/100\n",
      "625/625 [==============================] - 94s 150ms/step - loss: 1.7304 - accuracy: 0.5169 - val_loss: 41813.3359 - val_accuracy: 0.3333\n",
      "Epoch 81/100\n",
      "625/625 [==============================] - 94s 150ms/step - loss: 1.6861 - accuracy: 0.5210 - val_loss: 52767.3789 - val_accuracy: 0.3330\n",
      "Epoch 82/100\n",
      "625/625 [==============================] - 94s 150ms/step - loss: 1.6242 - accuracy: 0.5386 - val_loss: 15557.9355 - val_accuracy: 0.3395\n",
      "Epoch 83/100\n",
      "625/625 [==============================] - 94s 150ms/step - loss: 1.5745 - accuracy: 0.5472 - val_loss: 37721.9727 - val_accuracy: 0.3419\n",
      "Epoch 84/100\n",
      "625/625 [==============================] - 94s 150ms/step - loss: 1.5085 - accuracy: 0.5723 - val_loss: 12692.6162 - val_accuracy: 0.3507\n",
      "Epoch 85/100\n",
      "625/625 [==============================] - 94s 150ms/step - loss: 1.4538 - accuracy: 0.5789 - val_loss: 13803.4355 - val_accuracy: 0.3478\n",
      "Epoch 86/100\n",
      "625/625 [==============================] - 94s 150ms/step - loss: 1.4255 - accuracy: 0.5902 - val_loss: 6842.8135 - val_accuracy: 0.2773\n",
      "Epoch 87/100\n",
      "625/625 [==============================] - 93s 149ms/step - loss: 1.5680 - accuracy: 0.5549 - val_loss: 2919.8601 - val_accuracy: 0.3165\n",
      "Epoch 88/100\n",
      "625/625 [==============================] - 94s 150ms/step - loss: 1.6267 - accuracy: 0.5364 - val_loss: 2118340.2500 - val_accuracy: 0.0590\n",
      "Epoch 89/100\n",
      "625/625 [==============================] - 94s 150ms/step - loss: 2.0840 - accuracy: 0.4294 - val_loss: 10236.0830 - val_accuracy: 0.3097\n",
      "Epoch 90/100\n",
      "625/625 [==============================] - 93s 149ms/step - loss: 1.6199 - accuracy: 0.5396 - val_loss: 15412.0674 - val_accuracy: 0.3268\n",
      "Epoch 91/100\n",
      "625/625 [==============================] - 94s 150ms/step - loss: 1.4501 - accuracy: 0.5775 - val_loss: 9236.7783 - val_accuracy: 0.3477\n",
      "Epoch 92/100\n",
      "625/625 [==============================] - 94s 150ms/step - loss: 1.3889 - accuracy: 0.5962 - val_loss: 2168.4331 - val_accuracy: 0.3324\n",
      "Epoch 93/100\n",
      "625/625 [==============================] - 94s 151ms/step - loss: 1.6267 - accuracy: 0.5409 - val_loss: 381.6300 - val_accuracy: 0.1172\n",
      "Epoch 94/100\n",
      "625/625 [==============================] - 94s 151ms/step - loss: 1.9671 - accuracy: 0.4547 - val_loss: 615.7963 - val_accuracy: 0.3339\n",
      "Epoch 95/100\n",
      "625/625 [==============================] - 94s 150ms/step - loss: 1.4344 - accuracy: 0.5849 - val_loss: 6059.6494 - val_accuracy: 0.3443\n",
      "Epoch 96/100\n",
      "625/625 [==============================] - 94s 150ms/step - loss: 1.3341 - accuracy: 0.6109 - val_loss: 13344.5156 - val_accuracy: 0.3484\n",
      "Epoch 97/100\n",
      "625/625 [==============================] - 94s 150ms/step - loss: 1.2805 - accuracy: 0.6238 - val_loss: 12466.2500 - val_accuracy: 0.3552\n",
      "Epoch 98/100\n",
      "625/625 [==============================] - 94s 150ms/step - loss: 1.6640 - accuracy: 0.5395 - val_loss: 813.1348 - val_accuracy: 0.2551\n",
      "Epoch 99/100\n",
      "625/625 [==============================] - 94s 150ms/step - loss: 2.2173 - accuracy: 0.3980 - val_loss: 8683.5732 - val_accuracy: 0.2922\n",
      "Epoch 100/100\n",
      "625/625 [==============================] - 94s 150ms/step - loss: 1.9657 - accuracy: 0.4538 - val_loss: 7906.9458 - val_accuracy: 0.2962\n"
     ]
    }
   ],
   "source": [
    "history = model.fit(datagen.flow(X_train, y_train, batch_size=64, subset='training'), validation_data=datagen.flow(X_train, y_train, batch_size=64, subset='validation'),\n",
    "                    epochs=100)"
   ]
  },
  {
   "cell_type": "code",
   "execution_count": 12,
   "id": "43804c3e",
   "metadata": {},
   "outputs": [
    {
     "data": {
      "image/png": "[encoded data removed]",
      "text/plain": [
       "<Figure size 432x288 with 1 Axes>"
      ]
     },
     "metadata": {
      "needs_background": "light"
     },
     "output_type": "display_data"
    }
   ],
   "source": [
    "getAccuracyPlot(history, 'ResNet-152 [Cifar-100]')"
   ]
  },
  {
   "cell_type": "code",
   "execution_count": 13,
   "id": "aadf091e",
   "metadata": {},
   "outputs": [
    {
     "data": {
      "image/png": "[encoded data removed]",
      "text/plain": [
       "<Figure size 432x288 with 1 Axes>"
      ]
     },
     "metadata": {
      "needs_background": "light"
     },
     "output_type": "display_data"
    }
   ],
   "source": [
    "getLossPlot(history, 'ResNet-152 [Cifar-100]')"
   ]
  },
  {
   "cell_type": "code",
   "execution_count": 14,
   "id": "53c30491",
   "metadata": {
    "id": "Q6c51VwC3B69"
   },
   "outputs": [],
   "source": [
    "model.save('cifar100_resnet152_epoch100.h5')"
   ]
  },
  {
   "cell_type": "code",
   "execution_count": 4,
   "id": "d4608bc4",
   "metadata": {},
   "outputs": [
    {
     "name": "stdout",
     "output_type": "stream",
     "text": [
      "313/313 [==============================] - 15s 31ms/step - loss: 6758.3286 - accuracy: 0.3107\n"
     ]
    },
    {
     "data": {
      "text/plain": [
       "[6758.32861328125, 0.310699999332428]"
      ]
     },
     "execution_count": 4,
     "metadata": {},
     "output_type": "execute_result"
    }
   ],
   "source": [
    "from tensorflow.keras.models import load_model\n",
    "model = load_model('cifar100_resnet152_epoch100.h5')\n",
    "model.evaluate(X_test, y_test)"
   ]
  },
  {
   "cell_type": "code",
   "execution_count": null,
   "id": "c9326ae4",
   "metadata": {},
   "outputs": [],
   "source": []
  }
 ],
 "metadata": {
  "kernelspec": {
   "display_name": "Python 3",
   "language": "python",
   "name": "python3"
  },
  "language_info": {
   "codemirror_mode": {
    "name": "ipython",
    "version": 3
   },
   "file_extension": ".py",
   "mimetype": "text/x-python",
   "name": "python",
   "nbconvert_exporter": "python",
   "pygments_lexer": "ipython3",
   "version": "3.6.9"
  }
 },
 "nbformat": 4,
 "nbformat_minor": 5
}
